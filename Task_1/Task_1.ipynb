{
 "cells": [
  {
   "cell_type": "markdown",
   "metadata": {},
   "source": [
    "# Задание 1\n",
    "\n",
    "(**NB.** для запуска примеров кода нужен Python версии не ниже **3.10**, допускается использование других версий, в этом случае нужно самостоятельно избавиться от конструкции `match`).\n",
    "\n",
    "Есть следующий код для [автоматического дифференцирования](https://en.wikipedia.org/wiki/Automatic_differentiation), в котором используются особенности системы типов языка `Python`: "
   ]
  },
  {
   "cell_type": "code",
   "execution_count": 1,
   "metadata": {},
   "outputs": [],
   "source": [
    "from dataclasses import dataclass\n",
    "from typing import Union, Callable\n",
    "from numbers import Number\n",
    "\n",
    "@dataclass\n",
    "class Dual:\n",
    "    value: float\n",
    "    d: float\n",
    "    \n",
    "    def __add__(self, other: Union[\"Dual\", Number]) -> \"Dual\":\n",
    "        match other:\n",
    "            case Dual(o_value, o_d):\n",
    "                return Dual(self.value + o_value, self.d + o_d)\n",
    "            case Number():\n",
    "                return Dual(float(other) + self.value, self.d)\n",
    "\n",
    "    def __mul__(self, other: Union[\"Dual\", Number]) -> \"Dual\":\n",
    "        match other:\n",
    "            case Dual(o_value, o_d):\n",
    "                return Dual(self.value * o_value, self.value * o_d + self.d * o_value)\n",
    "            case Number():\n",
    "                return Dual(float(other) * self.value, float(other) * self.d)\n",
    "\n",
    "    __rmul__ = __mul__  # https://docs.python.org/3/reference/datamodel.html#object.__mul__\n",
    "    __radd__ = __add__  # https://docs.python.org/3/reference/datamodel.html#object.__radd__\n",
    "\n",
    "\n",
    "def diff(func: Callable[[float], float]) -> Callable[[float], float]:\n",
    "    return lambda x: func(Dual(x, 1.0)).d"
   ]
  },
  {
   "cell_type": "markdown",
   "metadata": {},
   "source": [
    "Поддерживаются две операции - сложение и умножение. Применить можно так:"
   ]
  },
  {
   "cell_type": "code",
   "execution_count": 2,
   "metadata": {},
   "outputs": [
    {
     "data": {
      "text/plain": [
       "22.0"
      ]
     },
     "execution_count": 2,
     "metadata": {},
     "output_type": "execute_result"
    }
   ],
   "source": [
    "# Функция, которую будем дифференцировать\n",
    "def f(x: float) -> float:\n",
    "    return 5 * x * x + 2 * x + 2\n",
    "\n",
    "f_diff = diff(f)\n",
    "\n",
    "# значение производной в точке x = 2\n",
    "f_diff(2)"
   ]
  },
  {
   "cell_type": "markdown",
   "metadata": {},
   "source": [
    "## Задание 1.1 (5 баллов)\n",
    "\n",
    "Какие недостатки вы видите в данной реализации? Реализуйте поддержку (полностью самостоятельно или модифицируя приведенный код):\n",
    "- [унарных операций](https://docs.python.org/3/reference/datamodel.html#object.__neg__) \n",
    "- деления\n",
    "- возведения в степень\n",
    "\n",
    "Каким образом можно проверить корректность решения?  Реализуйте достаточный, по вашему мнению, набор тестов."
   ]
  },
  {
   "cell_type": "code",
   "execution_count": 1,
   "metadata": {},
   "outputs": [],
   "source": [
    "from dataclasses import dataclass\n",
    "from typing import Union, Callable\n",
    "from numbers import Number\n",
    "import math\n",
    "\n",
    "@dataclass\n",
    "class Dual:\n",
    "    value: float\n",
    "    d: float\n",
    "    \n",
    "    def __add__(self, other: Union[\"Dual\", Number]) -> \"Dual\":\n",
    "        match other:\n",
    "            case Dual(o_value, o_d):\n",
    "                return Dual(self.value + o_value, self.d + o_d)\n",
    "            case Number():\n",
    "                return Dual(float(other) + self.value, self.d)\n",
    "\n",
    "    def __mul__(self, other: Union[\"Dual\", Number]) -> \"Dual\":\n",
    "        match other:\n",
    "            case Dual(o_value, o_d):\n",
    "                return Dual(self.value * o_value, self.value * o_d + self.d * o_value)\n",
    "            case Number():\n",
    "                return Dual(float(other) * self.value, float(other) * self.d)\n",
    "\n",
    "    __rmul__ = __mul__\n",
    "    __radd__ = __add__\n",
    "\n",
    "    def __neg__(self) -> \"Dual\":\n",
    "        return Dual(-self.value, -self.d)\n",
    "    \n",
    "    def __pos__(self) -> \"Dual\":\n",
    "        return Dual(self.value, self.d)\n",
    "    \n",
    "    def __abs__(self) -> \"Dual\":\n",
    "        return Dual(abs(self.value), self.value / abs(self.value) * self.d)\n",
    "    \n",
    "    def __sub__(self, other: Union[\"Dual\", Number]) -> \"Dual\":\n",
    "        match other:\n",
    "            case Dual(o_value, o_d):\n",
    "                return Dual(self.value - o_value, self.d - o_d)\n",
    "            case Number():\n",
    "                return Dual(self.value - float(other), self.d)\n",
    "    \n",
    "    def __rsub__(self, other: Union[\"Dual\", Number]) -> \"Dual\":\n",
    "        match other:\n",
    "            case Dual(o_value, o_d):\n",
    "                return self.__sub__(other, self)\n",
    "            case Number():\n",
    "                return Dual(float(other) - self.value, -self.d)\n",
    "    \n",
    "    def __truediv__(self, other: Union[\"Dual\", Number]) -> \"Dual\":\n",
    "        match other:\n",
    "            case Dual(o_value, o_d):\n",
    "                return Dual(self.value / o_value, (self.d * o_value - self.value * o_d) / o_value ** 2)\n",
    "            case Number():\n",
    "                return Dual(self.value / float(other), self.d / float(other))\n",
    "    \n",
    "    def __rtruediv__(self, other: Union[\"Dual\", Number]) -> \"Dual\":\n",
    "        match other:\n",
    "            case Dual(o_value, o_d):\n",
    "                return self.__truediv__(other, self)\n",
    "            case Number():\n",
    "                return Dual(float(other) / self.value, -float(other) * self.value ** -2 * self.d)\n",
    "\n",
    "    def __pow__(self, other: Union[\"Dual\", Number]) -> \"Dual\":\n",
    "        match other:\n",
    "            case Dual(o_value, o_d):\n",
    "                return Dual(self.value ** o_value, o_value * self.value ** (o_value - 1) * self.d + self.value ** o_value * o_d * math.log(self.value))\n",
    "            case Number():\n",
    "                return Dual(self.value ** float(other), float(other) * self.value ** (float(other) - 1) * self.d)\n",
    "    \n",
    "    def __rpow__(self, other: Union[\"Dual\", Number]) -> \"Dual\":\n",
    "        match other:\n",
    "            case Dual(o_value, o_d):\n",
    "                return self.__pow__(other, self)\n",
    "            case Number():\n",
    "                return Dual(float(other) ** self.value, float(other) ** self.value * math.log(float(other)) * self.d)\n",
    "\n",
    "def diff(func: Callable[[float], float]) -> Callable[[float], float]:\n",
    "    return lambda x: func(Dual(x, 1.0)).d"
   ]
  },
  {
   "cell_type": "code",
   "execution_count": 2,
   "metadata": {},
   "outputs": [
    {
     "name": "stdout",
     "output_type": "stream",
     "text": [
      "-2.0\n",
      "5.0\n",
      "-1.25\n",
      "16.0\n",
      "-0.05539339756999316\n"
     ]
    }
   ],
   "source": [
    "tests_1 = [lambda x: -x * 5 + 3 * +x,\n",
    "           lambda x: abs(x * 5),\n",
    "           lambda x: (3 / (x * x)) + (x / x) - (x / 2),\n",
    "           lambda x: x ** 3 - 2 ** x + x ** x,\n",
    "           lambda x: abs(-x / 2) / (((2 ** x) ** x) ** (2 / +x))]\n",
    "\n",
    "for f in tests_1:\n",
    "    f_diff = diff(f)\n",
    "    print(f_diff(2))"
   ]
  },
  {
   "cell_type": "markdown",
   "metadata": {},
   "source": [
    "## Задание 1.2 (7 баллов)\n",
    "Придумайте способ и реализуйте поддержку функций:\n",
    "- `exp()`\n",
    "- `cos()`\n",
    "- `sin()`\n",
    "- `log()`\n",
    "\n",
    "Добавьте соответствующие тесты"
   ]
  },
  {
   "cell_type": "code",
   "execution_count": 3,
   "metadata": {},
   "outputs": [],
   "source": [
    "def exp(dual: \"Dual\") -> \"Dual\":\n",
    "    return Dual(math.exp(dual.value), math.exp(dual.value) * dual.d)\n",
    "\n",
    "def cos(dual: \"Dual\") -> \"Dual\":\n",
    "    return Dual(math.cos(dual.value), -math.sin(dual.value) * dual.d)\n",
    "\n",
    "def sin(dual: \"Dual\") -> \"Dual\":\n",
    "    return Dual(math.sin(dual.value), math.cos(dual.value) * dual.d)\n",
    "\n",
    "def log(dual: \"Dual\") -> \"Dual\":\n",
    "    return Dual(math.log(dual.value), 1 / dual.value * dual.d)"
   ]
  },
  {
   "cell_type": "code",
   "execution_count": 4,
   "metadata": {},
   "outputs": [
    {
     "name": "stdout",
     "output_type": "stream",
     "text": [
      "218.39260013257694\n",
      "-0.16320405631285667\n",
      "-0.7568024953079283\n",
      "-0.5\n",
      "-0.4348774016278626\n"
     ]
    }
   ],
   "source": [
    "tests_2 = [lambda x: exp(x ** 2),\n",
    "           lambda x: cos(x / 3.4),\n",
    "           lambda x: sin(x) ** 2,\n",
    "           lambda x: -log(x / 10),\n",
    "           lambda x: exp(sin(cos(x)) / log(x))]\n",
    "\n",
    "for f in tests_2:\n",
    "    f_diff = diff(f)\n",
    "    print(f_diff(2))"
   ]
  },
  {
   "cell_type": "markdown",
   "metadata": {},
   "source": [
    "## Задание 1.3 (3 балла)\n",
    "\n",
    "Воспользуйтесь методами **численного** дифференцирования для \"проверки\" работы кода на нескольких примерах. Например,  библиотеке `scipy` есть функция `derivative`. Или реализуйте какой-нибудь метод численного дифференцирования самостоятельно (**+5 баллов**)"
   ]
  },
  {
   "cell_type": "code",
   "execution_count": null,
   "metadata": {},
   "outputs": [
    {
     "data": {
      "text/plain": [
       "22.0"
      ]
     },
     "execution_count": 5,
     "metadata": {},
     "output_type": "execute_result"
    }
   ],
   "source": [
    "from scipy.misc import derivative\n",
    "\n",
    "def f(x: float) -> float:\n",
    "    return 5 * x * x + 2 * x + 2\n",
    "\n",
    "derivative(f, 2.)"
   ]
  },
  {
   "cell_type": "code",
   "execution_count": 5,
   "metadata": {},
   "outputs": [
    {
     "name": "stdout",
     "output_type": "stream",
     "text": [
      "-2.000000000723645\n",
      "5.00000000069889\n",
      "-1.2500000001192113\n",
      "16.00000000134827\n",
      "-0.05539339757373862\n",
      "218.3926001393388\n",
      "-0.16320405632486157\n",
      "-0.7568024952830932\n",
      "-0.500000000069889\n",
      "-0.4348774016449397\n"
     ]
    }
   ],
   "source": [
    "from scipy.misc import derivative\n",
    "import numpy as np\n",
    "\n",
    "tests = [lambda x: -x * 5 + 3 * +x,\n",
    "         lambda x: abs(x * 5),\n",
    "         lambda x: (3 / (x * x)) + (x / x) - (x / 2),\n",
    "         lambda x: x ** 3 - 2 ** x + x ** x,\n",
    "         lambda x: abs(-x / 2) / (((2 ** x) ** x) ** (2 / +x)),\n",
    "         lambda x: np.exp(x ** 2),\n",
    "         lambda x: np.cos(x / 3.4),\n",
    "         lambda x: np.sin(x) ** 2,\n",
    "         lambda x: -np.log(x / 10),\n",
    "         lambda x: np.exp(np.sin(np.cos(x)) / np.log(x))]\n",
    "\n",
    "for f in tests:\n",
    "    print(derivative(f, 2., dx=1e-6))"
   ]
  },
  {
   "cell_type": "markdown",
   "metadata": {},
   "source": [
    "## Задание 1.4 (10 баллов)\n",
    "\n",
    "Необходимо разработать систему автоматического тестирования алгоритма дифференцирования в следующем виде:\n",
    "- реализовать механизм генерации \"случайных функций\" (например, что-то вроде такого: $f(x) = x + 5 * x - \\cos(20 * \\log(12 - 20 * x * x )) - 20 * x$ )\n",
    "- сгенерировать достаточно большое число функций и сравнить результаты символьного и численного дифференцирования в случайных точках "
   ]
  },
  {
   "cell_type": "markdown",
   "metadata": {},
   "source": [
    "Генерацию случайных функций можно осуществить, например, двумя путями. \n",
    "1. Генерировать функцию в текстовом виде, зачем использовать встроенную функцию [eval](https://docs.python.org/3/library/functions.html#eval)\n",
    "\n",
    "```python\n",
    "func = eval(\"lambda x: 2 * x + 5\")\n",
    "assert func(42) == 89 \n",
    "```\n",
    "\n",
    "2. Использовать стандартный модуль [ast](https://docs.python.org/3/library/ast.html), который позволяет во время выполнения программы манипулировать [Абстрактным Синтаксическим Деревом](https://ru.wikipedia.org/wiki/%D0%90%D0%B1%D1%81%D1%82%D1%80%D0%B0%D0%BA%D1%82%D0%BD%D0%BE%D0%B5_%D1%81%D0%B8%D0%BD%D1%82%D0%B0%D0%BA%D1%81%D0%B8%D1%87%D0%B5%D1%81%D0%BA%D0%BE%D0%B5_%D0%B4%D0%B5%D1%80%D0%B5%D0%B2%D0%BE).\n",
    "Например, выражение \n",
    "\n",
    "```python\n",
    "func = lambda x: 2 * x + 5\n",
    "```\n",
    "\n",
    "Можно запрограммировать с помощью кода:\n",
    "\n",
    "```python\n",
    "\n",
    "expr = ast.Expression(\n",
    "    body=ast.Lambda(\n",
    "        args=ast.arguments(\n",
    "            args=[\n",
    "                ast.arg(arg='x')\n",
    "            ],\n",
    "            posonlyargs=[],\n",
    "            kwonlyargs=[],\n",
    "            kw_defaults=[],\n",
    "            defaults=[]\n",
    "        ),\n",
    "        body=ast.BinOp(\n",
    "            left=ast.BinOp(\n",
    "                left=ast.Constant(value=2),\n",
    "                op=ast.Mult(),\n",
    "                right=ast.Name(id='x', ctx=ast.Load())\n",
    "            ),\n",
    "            op=ast.Add(),\n",
    "            right=ast.Constant(value=5)\n",
    "        )\n",
    "    )\n",
    ")\n",
    "\n",
    "ast.fix_missing_locations(expr)\n",
    "\n",
    "func = eval(compile(expr, filename=\"\", mode=\"eval\"))\n",
    "\n",
    "assert func(42) == 89\n",
    "```\n",
    "\n",
    "При реализации нужно учитывать области допустимых значений функций."
   ]
  },
  {
   "cell_type": "code",
   "execution_count": 64,
   "metadata": {},
   "outputs": [
    {
     "name": "stdout",
     "output_type": "stream",
     "text": [
      "lambda x: 6 ** x * 6 + (x - x * x) / x - (x)\n"
     ]
    }
   ],
   "source": [
    "from random import randint, choice\n",
    "\n",
    "def gen_func(var_number: int = 6) -> Callable[[float], float]:\n",
    "    func = \"lambda x: \"\n",
    "\n",
    "    un_op = ['+', '-']\n",
    "    bi_op = [\" + \", \" - \", \" * \", \" / \", \" ** \"]\n",
    "    math_functions = [\"abs(\", \"exp(\", \"cos(\", \"sin(\", \"log(\"]\n",
    "\n",
    "    scripts = [\"var\", \"number\", \"un_op\", \"func\", \"open_br\"]\n",
    "    close_br_count = 0\n",
    "    var_count = 0\n",
    "\n",
    "    while(var_count < var_number):\n",
    "        match choice(scripts):\n",
    "            case \"var\":\n",
    "                func += 'x'\n",
    "                scripts = [\"bi_op\"] + [\"close_br\"] * close_br_count\n",
    "                var_count += 1\n",
    "            case \"number\":\n",
    "                func += str(randint(0, 10))\n",
    "                scripts = [\"bi_op\"] + [\"close_br\"] * close_br_count\n",
    "            case \"un_op\":\n",
    "                func += choice(un_op)\n",
    "                scripts = [\"var\"] * 3 + [\"number\", \"func\", \"open_br\"]\n",
    "            case \"bi_op\":\n",
    "                func += choice(bi_op)\n",
    "                scripts = [\"var\"] * 3 + [\"number\", \"func\", \"open_br\"]\n",
    "            case \"func\":\n",
    "                func += choice(math_functions)\n",
    "                close_br_count += 1\n",
    "                scripts = [\"var\"] * 3 + [\"number\", \"un_op\", \"func\", \"open_br\"]\n",
    "            case \"open_br\":\n",
    "                func += '('\n",
    "                close_br_count += 1\n",
    "                scripts = [\"var\"] * 3 + [\"number\", \"un_op\", \"func\"]\n",
    "            case \"close_br\":\n",
    "                func += ')'\n",
    "                close_br_count -= 1\n",
    "                scripts = [\"bi_op\"]\n",
    "\n",
    "    if close_br_count > 0:\n",
    "        func += ')' * close_br_count\n",
    "\n",
    "    return eval(func)\n",
    "\n",
    "f = gen_func()\n",
    "f(5)"
   ]
  },
  {
   "cell_type": "markdown",
   "metadata": {},
   "source": [
    "## Задание 1.5 (7 баллов)\n",
    "\n",
    "Реализуйте поддержку функций нескольких аргументов. Например\n",
    "\n",
    "```python\n",
    "def f(x: float, y: float, z: float) -> float:\n",
    "    return x * y + z - 5 * y  \n",
    "\n",
    "\n",
    "f_diff = diff(f)\n",
    "\n",
    "f_diff(10, 10, 10) # = [10, 5, 1]\n",
    "```"
   ]
  },
  {
   "cell_type": "code",
   "execution_count": null,
   "metadata": {},
   "outputs": [],
   "source": [
    "# ваш код"
   ]
  }
 ],
 "metadata": {
  "kernelspec": {
   "display_name": "Python 3.10.7 ('venv': venv)",
   "language": "python",
   "name": "python3"
  },
  "language_info": {
   "codemirror_mode": {
    "name": "ipython",
    "version": 3
   },
   "file_extension": ".py",
   "mimetype": "text/x-python",
   "name": "python",
   "nbconvert_exporter": "python",
   "pygments_lexer": "ipython3",
   "version": "3.10.7"
  },
  "orig_nbformat": 4,
  "vscode": {
   "interpreter": {
    "hash": "3526c35ddacfaebfa81bde53a4400e34893a26660feea65b643ec4bc709c5d74"
   }
  }
 },
 "nbformat": 4,
 "nbformat_minor": 2
}
