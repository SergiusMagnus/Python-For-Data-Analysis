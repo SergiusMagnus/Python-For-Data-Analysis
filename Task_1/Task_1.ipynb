{
 "cells": [
  {
   "cell_type": "markdown",
   "metadata": {},
   "source": [
    "# Задание 1\n",
    "\n",
    "(**NB.** для запуска примеров кода нужен Python версии не ниже **3.10**, допускается использование других версий, в этом случае нужно самостоятельно избавиться от конструкции `match`).\n",
    "\n",
    "Есть следующий код для [автоматического дифференцирования](https://en.wikipedia.org/wiki/Automatic_differentiation), в котором используются особенности системы типов языка `Python`: "
   ]
  },
  {
   "cell_type": "code",
   "execution_count": 1,
   "metadata": {},
   "outputs": [],
   "source": [
    "from dataclasses import dataclass\n",
    "from typing import Union, Callable\n",
    "from numbers import Number\n",
    "\n",
    "@dataclass\n",
    "class Dual:\n",
    "    value: float\n",
    "    d: float\n",
    "    \n",
    "    def __add__(self, other: Union[\"Dual\", Number]) -> \"Dual\":\n",
    "        match other:\n",
    "            case Dual(o_value, o_d):\n",
    "                return Dual(self.value + o_value, self.d + o_d)\n",
    "            case Number():\n",
    "                return Dual(float(other) + self.value, self.d)\n",
    "\n",
    "    def __mul__(self, other: Union[\"Dual\", Number]) -> \"Dual\":\n",
    "        match other:\n",
    "            case Dual(o_value, o_d):\n",
    "                return Dual(self.value * o_value, self.value * o_d + self.d * o_value)\n",
    "            case Number():\n",
    "                return Dual(float(other) * self.value, float(other) * self.d)\n",
    "\n",
    "    __rmul__ = __mul__  # https://docs.python.org/3/reference/datamodel.html#object.__mul__\n",
    "    __radd__ = __add__  # https://docs.python.org/3/reference/datamodel.html#object.__radd__\n",
    "\n",
    "\n",
    "def diff(func: Callable[[float], float]) -> Callable[[float], float]:\n",
    "    return lambda x: func(Dual(x, 1.0)).d"
   ]
  },
  {
   "cell_type": "markdown",
   "metadata": {},
   "source": [
    "Поддерживаются две операции - сложение и умножение. Применить можно так:"
   ]
  },
  {
   "cell_type": "code",
   "execution_count": 2,
   "metadata": {},
   "outputs": [
    {
     "data": {
      "text/plain": [
       "22.0"
      ]
     },
     "execution_count": 2,
     "metadata": {},
     "output_type": "execute_result"
    }
   ],
   "source": [
    "# Функция, которую будем дифференцировать\n",
    "def f(x: float) -> float:\n",
    "    return 5 * x * x + 2 * x + 2\n",
    "\n",
    "f_diff = diff(f)\n",
    "\n",
    "# значение производной в точке x = 2\n",
    "f_diff(2)"
   ]
  },
  {
   "cell_type": "markdown",
   "metadata": {},
   "source": [
    "## Задание 1.1 (5 баллов)\n",
    "\n",
    "Какие недостатки вы видите в данной реализации? Реализуйте поддержку (полностью самостоятельно или модифицируя приведенный код):\n",
    "- [унарных операций](https://docs.python.org/3/reference/datamodel.html#object.__neg__) \n",
    "- деления\n",
    "- возведения в степень\n",
    "\n",
    "Каким образом можно проверить корректность решения?  Реализуйте достаточный, по вашему мнению, набор тестов."
   ]
  },
  {
   "cell_type": "code",
   "execution_count": 1,
   "metadata": {},
   "outputs": [],
   "source": [
    "from dataclasses import dataclass\n",
    "from typing import Union, Callable\n",
    "from numbers import Number\n",
    "import numpy as np\n",
    "\n",
    "@dataclass\n",
    "class Dual:\n",
    "    value: float\n",
    "    d: float\n",
    "    \n",
    "    def __add__(self, other: Union[\"Dual\", Number]) -> \"Dual\":\n",
    "        match other:\n",
    "            case Dual(o_value, o_d):\n",
    "                return Dual(self.value + o_value, self.d + o_d)\n",
    "            case Number():\n",
    "                return Dual(float(other) + self.value, self.d)\n",
    "\n",
    "    def __mul__(self, other: Union[\"Dual\", Number]) -> \"Dual\":\n",
    "        match other:\n",
    "            case Dual(o_value, o_d):\n",
    "                return Dual(self.value * o_value, self.value * o_d + self.d * o_value)\n",
    "            case Number():\n",
    "                return Dual(float(other) * self.value, float(other) * self.d)\n",
    "\n",
    "    __rmul__ = __mul__\n",
    "    __radd__ = __add__\n",
    "\n",
    "    def __neg__(self) -> \"Dual\":\n",
    "        return Dual(-self.value, -self.d)\n",
    "    \n",
    "    def __pos__(self) -> \"Dual\":\n",
    "        return Dual(self.value, self.d)\n",
    "    \n",
    "    def __abs__(self) -> \"Dual\":\n",
    "        return Dual(abs(self.value), self.value / abs(self.value) * self.d)\n",
    "    \n",
    "    def __sub__(self, other: Union[\"Dual\", Number]) -> \"Dual\":\n",
    "        match other:\n",
    "            case Dual(o_value, o_d):\n",
    "                return Dual(self.value - o_value, self.d - o_d)\n",
    "            case Number():\n",
    "                return Dual(self.value - float(other), self.d)\n",
    "    \n",
    "    def __rsub__(self, other: Union[\"Dual\", Number]) -> \"Dual\":\n",
    "        match other:\n",
    "            case Dual(o_value, o_d):\n",
    "                return self.__sub__(other, self)\n",
    "            case Number():\n",
    "                return Dual(float(other) - self.value, -self.d)\n",
    "    \n",
    "    def __truediv__(self, other: Union[\"Dual\", Number]) -> \"Dual\":\n",
    "        match other:\n",
    "            case Dual(o_value, o_d):\n",
    "                return Dual(self.value / o_value, (self.d * o_value - self.value * o_d) / o_value ** 2)\n",
    "            case Number():\n",
    "                return Dual(self.value / float(other), self.d / float(other))\n",
    "    \n",
    "    def __rtruediv__(self, other: Union[\"Dual\", Number]) -> \"Dual\":\n",
    "        match other:\n",
    "            case Dual(o_value, o_d):\n",
    "                return self.__truediv__(other, self)\n",
    "            case Number():\n",
    "                return Dual(float(other) / self.value, -float(other) * self.value ** -2 * self.d)\n",
    "\n",
    "    def __pow__(self, other: Union[\"Dual\", Number]) -> \"Dual\":\n",
    "        match other:\n",
    "            case Dual(o_value, o_d):\n",
    "                return Dual(self.value ** o_value, o_value * self.value ** (o_value - 1) * self.d + self.value ** o_value * o_d * np.log(self.value))\n",
    "            case Number():\n",
    "                return Dual(self.value ** float(other), float(other) * self.value ** (float(other) - 1) * self.d)\n",
    "    \n",
    "    def __rpow__(self, other: Union[\"Dual\", Number]) -> \"Dual\":\n",
    "        match other:\n",
    "            case Dual(o_value, o_d):\n",
    "                return self.__pow__(other, self)\n",
    "            case Number():\n",
    "                return Dual(float(other) ** self.value, float(other) ** self.value * np.log(float(other)) * self.d)\n",
    "\n",
    "def diff(func: Callable[[float], float]) -> Callable[[float], float]:\n",
    "    return lambda x: func(Dual(x, 1.0)).d"
   ]
  },
  {
   "cell_type": "code",
   "execution_count": 2,
   "metadata": {},
   "outputs": [
    {
     "name": "stdout",
     "output_type": "stream",
     "text": [
      "-2.0\n",
      "5.0\n",
      "-1.25\n",
      "16.0\n",
      "-0.05539339756999316\n"
     ]
    }
   ],
   "source": [
    "tests_1 = [lambda x: -x * 5 + 3 * +x,\n",
    "           lambda x: abs(x * 5),\n",
    "           lambda x: (3 / (x * x)) + (x / x) - (x / 2),\n",
    "           lambda x: x ** 3 - 2 ** x + x ** x,\n",
    "           lambda x: abs(-x / 2) / (((2 ** x) ** x) ** (2 / +x))]\n",
    "\n",
    "for f in tests_1:\n",
    "    f_diff = diff(f)\n",
    "    print(f_diff(2))"
   ]
  },
  {
   "cell_type": "markdown",
   "metadata": {},
   "source": [
    "## Задание 1.2 (7 баллов)\n",
    "Придумайте способ и реализуйте поддержку функций:\n",
    "- `exp()`\n",
    "- `cos()`\n",
    "- `sin()`\n",
    "- `log()`\n",
    "\n",
    "Добавьте соответствующие тесты"
   ]
  },
  {
   "cell_type": "code",
   "execution_count": 3,
   "metadata": {},
   "outputs": [],
   "source": [
    "import numpy as np\n",
    "\n",
    "def exp(arg: Union[\"Dual\", Number]) -> Union[\"Dual\", Number]:\n",
    "    match arg:\n",
    "        case Dual(value, d):\n",
    "            return Dual(np.exp(arg.value), np.exp(arg.value) * arg.d)\n",
    "        case Number():\n",
    "            return np.exp(arg)\n",
    "\n",
    "def cos(arg: Union[\"Dual\", Number]) -> \"Dual\":\n",
    "    match arg:\n",
    "        case Dual(value, d):\n",
    "            return Dual(np.cos(arg.value), -np.sin(arg.value) * arg.d)\n",
    "        case Number():\n",
    "            return np.cos(arg)\n",
    "\n",
    "def sin(arg: Union[\"Dual\", Number]) -> \"Dual\":\n",
    "    match arg:\n",
    "        case Dual(value, d):\n",
    "            return Dual(np.sin(arg.value), np.cos(arg.value) * arg.d)\n",
    "        case Number():\n",
    "            return np.sin(arg)\n",
    "\n",
    "def log(arg: Union[\"Dual\", Number]) -> \"Dual\":\n",
    "    match arg:\n",
    "        case Dual(value, d):\n",
    "            return Dual(np.log(arg.value), 1 / arg.value * arg.d)\n",
    "        case Number():\n",
    "            return np.log(arg)"
   ]
  },
  {
   "cell_type": "code",
   "execution_count": 4,
   "metadata": {},
   "outputs": [
    {
     "name": "stdout",
     "output_type": "stream",
     "text": [
      "218.39260013257694\n",
      "-0.16320405631285667\n",
      "-0.7568024953079283\n",
      "-0.5\n",
      "-0.4348774016278626\n"
     ]
    }
   ],
   "source": [
    "tests_2 = [lambda x: exp(x ** 2),\n",
    "           lambda x: cos(x / 3.4),\n",
    "           lambda x: sin(x) ** 2,\n",
    "           lambda x: -log(x / 10),\n",
    "           lambda x: exp(sin(cos(x)) / log(x))]\n",
    "\n",
    "for f in tests_2:\n",
    "    f_diff = diff(f)\n",
    "    print(f_diff(2))"
   ]
  },
  {
   "cell_type": "markdown",
   "metadata": {},
   "source": [
    "## Задание 1.3 (3 балла)\n",
    "\n",
    "Воспользуйтесь методами **численного** дифференцирования для \"проверки\" работы кода на нескольких примерах. Например,  библиотеке `scipy` есть функция `derivative`. Или реализуйте какой-нибудь метод численного дифференцирования самостоятельно (**+5 баллов**)"
   ]
  },
  {
   "cell_type": "code",
   "execution_count": null,
   "metadata": {},
   "outputs": [
    {
     "data": {
      "text/plain": [
       "22.0"
      ]
     },
     "execution_count": 5,
     "metadata": {},
     "output_type": "execute_result"
    }
   ],
   "source": [
    "from scipy.misc import derivative\n",
    "\n",
    "def f(x: float) -> float:\n",
    "    return 5 * x * x + 2 * x + 2\n",
    "\n",
    "derivative(f, 2.)"
   ]
  },
  {
   "cell_type": "code",
   "execution_count": 5,
   "metadata": {},
   "outputs": [
    {
     "name": "stdout",
     "output_type": "stream",
     "text": [
      "-2.000000000723645\n",
      "5.00000000069889\n",
      "-1.2500000001192113\n",
      "16.00000000134827\n",
      "-0.05539339757373862\n",
      "218.3926001393388\n",
      "-0.16320405632486157\n",
      "-0.7568024952830932\n",
      "-0.500000000069889\n",
      "-0.4348774016449397\n"
     ]
    }
   ],
   "source": [
    "from scipy.misc import derivative\n",
    "\n",
    "tests = [lambda x: -x * 5 + 3 * +x,\n",
    "         lambda x: abs(x * 5),\n",
    "         lambda x: (3 / (x * x)) + (x / x) - (x / 2),\n",
    "         lambda x: x ** 3 - 2 ** x + x ** x,\n",
    "         lambda x: abs(-x / 2) / (((2 ** x) ** x) ** (2 / +x)),\n",
    "         lambda x: exp(x ** 2),\n",
    "         lambda x: cos(x / 3.4),\n",
    "         lambda x: sin(x) ** 2,\n",
    "         lambda x: -log(x / 10),\n",
    "         lambda x: exp(sin(np.cos(x)) / log(x))]\n",
    "\n",
    "for f in tests:\n",
    "    print(derivative(f, 2., dx=1e-6))"
   ]
  },
  {
   "cell_type": "code",
   "execution_count": 15,
   "metadata": {},
   "outputs": [
    {
     "name": "stdout",
     "output_type": "stream",
     "text": [
      "-2.0000000011677344\n",
      "5.000000001587068\n",
      "-1.2499994377357382\n",
      "16.00001177592958\n",
      "-0.05539338083365708\n",
      "218.3930915578003\n",
      "-0.16320409235159872\n",
      "-0.7568031491489435\n",
      "-0.4999998750587764\n",
      "-0.4348766895478917\n"
     ]
    }
   ],
   "source": [
    "def my_diff(f: Callable[[float], float], x: float, dx: float) -> float:\n",
    "    return (f(x + dx) - f(x)) / dx\n",
    "\n",
    "for f in tests:\n",
    "    print(my_diff(f, 2., dx=1e-6))"
   ]
  },
  {
   "cell_type": "markdown",
   "metadata": {},
   "source": [
    "## Задание 1.4 (10 баллов)\n",
    "\n",
    "Необходимо разработать систему автоматического тестирования алгоритма дифференцирования в следующем виде:\n",
    "- реализовать механизм генерации \"случайных функций\" (например, что-то вроде такого: $f(x) = x + 5 * x - \\cos(20 * \\log(12 - 20 * x * x )) - 20 * x$ )\n",
    "- сгенерировать достаточно большое число функций и сравнить результаты символьного и численного дифференцирования в случайных точках "
   ]
  },
  {
   "cell_type": "markdown",
   "metadata": {},
   "source": [
    "Генерацию случайных функций можно осуществить, например, двумя путями. \n",
    "1. Генерировать функцию в текстовом виде, зачем использовать встроенную функцию [eval](https://docs.python.org/3/library/functions.html#eval)\n",
    "\n",
    "```python\n",
    "func = eval(\"lambda x: 2 * x + 5\")\n",
    "assert func(42) == 89 \n",
    "```\n",
    "\n",
    "2. Использовать стандартный модуль [ast](https://docs.python.org/3/library/ast.html), который позволяет во время выполнения программы манипулировать [Абстрактным Синтаксическим Деревом](https://ru.wikipedia.org/wiki/%D0%90%D0%B1%D1%81%D1%82%D1%80%D0%B0%D0%BA%D1%82%D0%BD%D0%BE%D0%B5_%D1%81%D0%B8%D0%BD%D1%82%D0%B0%D0%BA%D1%81%D0%B8%D1%87%D0%B5%D1%81%D0%BA%D0%BE%D0%B5_%D0%B4%D0%B5%D1%80%D0%B5%D0%B2%D0%BE).\n",
    "Например, выражение \n",
    "\n",
    "```python\n",
    "func = lambda x: 2 * x + 5\n",
    "```\n",
    "\n",
    "Можно запрограммировать с помощью кода:\n",
    "\n",
    "```python\n",
    "\n",
    "expr = ast.Expression(\n",
    "    body=ast.Lambda(\n",
    "        args=ast.arguments(\n",
    "            args=[\n",
    "                ast.arg(arg='x')\n",
    "            ],\n",
    "            posonlyargs=[],\n",
    "            kwonlyargs=[],\n",
    "            kw_defaults=[],\n",
    "            defaults=[]\n",
    "        ),\n",
    "        body=ast.BinOp(\n",
    "            left=ast.BinOp(\n",
    "                left=ast.Constant(value=2),\n",
    "                op=ast.Mult(),\n",
    "                right=ast.Name(id='x', ctx=ast.Load())\n",
    "            ),\n",
    "            op=ast.Add(),\n",
    "            right=ast.Constant(value=5)\n",
    "        )\n",
    "    )\n",
    ")\n",
    "\n",
    "ast.fix_missing_locations(expr)\n",
    "\n",
    "func = eval(compile(expr, filename=\"\", mode=\"eval\"))\n",
    "\n",
    "assert func(42) == 89\n",
    "```\n",
    "\n",
    "При реализации нужно учитывать области допустимых значений функций."
   ]
  },
  {
   "cell_type": "code",
   "execution_count": 14,
   "metadata": {},
   "outputs": [
    {
     "name": "stdout",
     "output_type": "stream",
     "text": [
      "lambda x: log((x) - x ** exp(8 * (+x * cos(-x))))\n",
      "-29 1.0161784743926192 1.0161784744142892\n",
      "27 1.0161784743926192 1.0161784744142892\n",
      "-15 1.0161784743926192 1.0161784744142892\n",
      "-6 1.0161784743926192 1.0161784744142892\n",
      "-18 1.0161784743926192 1.0161784744142892\n",
      "lambda x: exp(+x * x) - log(-cos(x) * x)\n",
      "3 215.70756026931542 215.7075602760017\n",
      "-18 215.70756026931542 215.7075602760017\n",
      "-4 215.70756026931542 215.7075602760017\n",
      "17 215.70756026931542 215.7075602760017\n",
      "-15 215.70756026931542 215.7075602760017\n",
      "lambda x: +x / 4 ** x ** x / x\n",
      "-5 -0.036675006077442084 -0.03667500607894281\n",
      "-28 -0.036675006077442084 -0.03667500607894281\n",
      "-20 -0.036675006077442084 -0.03667500607894281\n",
      "-18 -0.036675006077442084 -0.03667500607894281\n",
      "-12 -0.036675006077442084 -0.03667500607894281\n",
      "lambda x: x + 8 * (x) ** (x - (x))\n",
      "8 1.0 1.000000000139778\n",
      "-13 1.0 1.000000000139778\n",
      "-27 1.0 1.000000000139778\n",
      "16 1.0 1.000000000139778\n",
      "19 1.0 1.000000000139778\n",
      "lambda x: -x + 2 - sin(x) ** x / x\n",
      "3 -0.3755849357153076 -0.37558493573564\n",
      "24 -0.3755849357153076 -0.37558493573564\n",
      "-20 -0.3755849357153076 -0.37558493573564\n",
      "13 -0.3755849357153076 -0.37558493573564\n",
      "6 -0.3755849357153076 -0.37558493573564\n",
      "lambda x: 8 * (x ** x ** x) - 4 / 3 / x\n",
      "-1 857.2166329061445 857.216632951463\n",
      "-9 857.2166329061445 857.216632951463\n",
      "0 857.2166329061445 857.216632951463\n",
      "-20 857.2166329061445 857.216632951463\n",
      "10 857.2166329061445 857.216632951463\n",
      "lambda x: -sin(x) / (cos(x) - x - (log(x)))\n",
      "27 -0.36044638053574085 -0.3604463805206848\n",
      "21 -0.36044638053574085 -0.3604463805206848\n",
      "12 -0.36044638053574085 -0.3604463805206848\n",
      "-22 -0.36044638053574085 -0.3604463805206848\n",
      "-18 -0.36044638053574085 -0.3604463805206848\n",
      "lambda x: sin(x * x) - x / cos(exp(x))\n",
      "22 -70.55616993028228 -70.55616994966485\n",
      "21 -70.55616993028228 -70.55616994966485\n",
      "-11 -70.55616993028228 -70.55616994966485\n",
      "-29 -70.55616993028228 -70.55616994966485\n",
      "6 -70.55616993028228 -70.55616994966485\n",
      "lambda x: +1 + abs(x + x) + 7 ** abs(x) * 9 * 2 - 8 + abs((x))\n",
      "10 1719.2927514667863 1719.2927514884104\n",
      "26 1719.2927514667863 1719.2927514884104\n",
      "-23 1719.2927514667863 1719.2927514884104\n",
      "23 1719.2927514667863 1719.2927514884104\n",
      "20 1719.2927514667863 1719.2927514884104\n",
      "lambda x: -x - exp(x / x / x)\n",
      "30 -0.587819682324968 -0.5878196824848914\n",
      "2 -0.587819682324968 -0.5878196824848914\n",
      "29 -0.587819682324968 -0.5878196824848914\n",
      "10 -0.587819682324968 -0.5878196824848914\n",
      "1 -0.587819682324968 -0.5878196824848914\n"
     ]
    }
   ],
   "source": [
    "from random import randint, choice\n",
    "\n",
    "def gen_func(var_number: int = 4) -> Callable[[float], float]:\n",
    "    func = \"lambda x: \"\n",
    "\n",
    "    un_op = ['+', '-']\n",
    "    bi_op = [\" + \", \" - \", \" * \", \" / \", \" ** \"]\n",
    "    math_functions = [\"abs(\", \"exp(\", \"cos(\", \"sin(\", \"log(\"]\n",
    "\n",
    "    scripts = [\"var\", \"number\", \"un_op\", \"func\", \"open_br\"]\n",
    "    close_br_count = 0\n",
    "    var_count = 0\n",
    "\n",
    "    while(var_count < var_number):\n",
    "        match choice(scripts):\n",
    "            case \"var\":\n",
    "                func += 'x'\n",
    "                scripts = [\"bi_op\"] + [\"close_br\"] * close_br_count\n",
    "                var_count += 1\n",
    "            case \"number\":\n",
    "                func += str(randint(0, 10))\n",
    "                scripts = [\"bi_op\"] + [\"close_br\"] * close_br_count\n",
    "            case \"un_op\":\n",
    "                func += choice(un_op)\n",
    "                scripts = [\"var\"] * 3 + [\"number\", \"func\", \"open_br\"]\n",
    "            case \"bi_op\":\n",
    "                func += choice(bi_op)\n",
    "                scripts = [\"var\"] * 3 + [\"number\", \"func\", \"open_br\"]\n",
    "            case \"func\":\n",
    "                func += choice(math_functions)\n",
    "                close_br_count += 1\n",
    "                scripts = [\"var\"] * 3 + [\"number\", \"un_op\", \"func\", \"open_br\"]\n",
    "            case \"open_br\":\n",
    "                func += '('\n",
    "                close_br_count += 1\n",
    "                scripts = [\"var\"] * 3 + [\"number\", \"un_op\", \"func\"]\n",
    "            case \"close_br\":\n",
    "                func += ')'\n",
    "                close_br_count -= 1\n",
    "                scripts = [\"bi_op\"]\n",
    "\n",
    "    if close_br_count > 0:\n",
    "        func += ')' * close_br_count\n",
    "\n",
    "    return func\n",
    "\n",
    "\n",
    "for i in range(10):\n",
    "    str_f = gen_func()\n",
    "    print(str_f)\n",
    "    f = eval(str_f)\n",
    "\n",
    "    for j in range(5):\n",
    "        try:\n",
    "            x = randint(-30, 30)\n",
    "\n",
    "            f_diff = diff(f)\n",
    "            my_result = f_diff(2)\n",
    "\n",
    "            ver_result = derivative(f, 2., dx=1e-6)\n",
    "            \n",
    "            print(f\"{x} {my_result} {ver_result}\")\n",
    "        except:\n",
    "            continue"
   ]
  },
  {
   "cell_type": "markdown",
   "metadata": {},
   "source": [
    "## Задание 1.5 (7 баллов)\n",
    "\n",
    "Реализуйте поддержку функций нескольких аргументов. Например\n",
    "\n",
    "```python\n",
    "def f(x: float, y: float, z: float) -> float:\n",
    "    return x * y + z - 5 * y  \n",
    "\n",
    "\n",
    "f_diff = diff(f)\n",
    "\n",
    "f_diff(10, 10, 10) # = [10, 5, 1]\n",
    "```"
   ]
  },
  {
   "cell_type": "code",
   "execution_count": 59,
   "metadata": {},
   "outputs": [
    {
     "data": {
      "text/plain": [
       "[10.0, 5.0, 1.0]"
      ]
     },
     "execution_count": 59,
     "metadata": {},
     "output_type": "execute_result"
    }
   ],
   "source": [
    "def diff(func: Callable[[float], float]) -> list[Callable[[float], float]]:\n",
    "    args_number = func.__code__.co_argcount\n",
    "\n",
    "    def f_diff(*args) -> list[float]:\n",
    "        lst_d = list()\n",
    "\n",
    "        for i in range(args_number):\n",
    "            new_args = list()\n",
    "            for j in range(args_number):\n",
    "                if j == i:\n",
    "                    new_args.append(Dual(args[j], 1.0))\n",
    "                else:\n",
    "                    new_args.append(Dual(args[j], 0.0))\n",
    "            \n",
    "            lst_d.append(func(*new_args).d)\n",
    "\n",
    "        return lst_d\n",
    "    \n",
    "    return f_diff\n",
    "\n",
    "\n",
    "def f(x: float, y: float, z: float) -> float:\n",
    "    return x * y + z - 5 * y\n",
    "\n",
    "f_diff = diff(f)\n",
    "f_diff(10, 10, 10)"
   ]
  },
  {
   "cell_type": "code",
   "execution_count": 60,
   "metadata": {},
   "outputs": [
    {
     "data": {
      "text/plain": [
       "[5.440211108893697, -0.8390715290764524]"
      ]
     },
     "execution_count": 60,
     "metadata": {},
     "output_type": "execute_result"
    }
   ],
   "source": [
    "def f(x: float, y: float) -> float:\n",
    "    return cos(x) * y\n",
    "\n",
    "f_diff = diff(f)\n",
    "f_diff(10, 10)"
   ]
  }
 ],
 "metadata": {
  "kernelspec": {
   "display_name": "Python 3.10.7 ('venv': venv)",
   "language": "python",
   "name": "python3"
  },
  "language_info": {
   "codemirror_mode": {
    "name": "ipython",
    "version": 3
   },
   "file_extension": ".py",
   "mimetype": "text/x-python",
   "name": "python",
   "nbconvert_exporter": "python",
   "pygments_lexer": "ipython3",
   "version": "3.10.7"
  },
  "orig_nbformat": 4,
  "vscode": {
   "interpreter": {
    "hash": "3526c35ddacfaebfa81bde53a4400e34893a26660feea65b643ec4bc709c5d74"
   }
  }
 },
 "nbformat": 4,
 "nbformat_minor": 2
}
