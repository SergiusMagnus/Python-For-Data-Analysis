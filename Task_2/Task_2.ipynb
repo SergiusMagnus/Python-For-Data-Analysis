{
 "cells": [
  {
   "cell_type": "markdown",
   "metadata": {},
   "source": [
    "# Задание 2.\n",
    "\n",
    "**NB. Все упражнения ниже нужно делать без использования циклов Python в явном (`while`, `for`) и неявном виде (list comprehension, `map`, `reduce` и пр)**\n",
    "\n",
    "Задания по манипуляциям с массивами чаще всего решаются в одно/два выражения. "
   ]
  },
  {
   "cell_type": "code",
   "execution_count": 1,
   "metadata": {},
   "outputs": [
    {
     "data": {
      "text/plain": [
       "array([[46, 42, 69, ..., 43, 93, 56],\n",
       "       [46, 23, 94, ..., 38, 94, 59],\n",
       "       [85, 30, 82, ..., 64, 67, 57],\n",
       "       ...,\n",
       "       [72, 75, 64, ..., 14, 26, 86],\n",
       "       [12, 90, 77, ...,  5, 44, 63],\n",
       "       [46,  8,  6, ...,  6, 23, 40]])"
      ]
     },
     "execution_count": 1,
     "metadata": {},
     "output_type": "execute_result"
    }
   ],
   "source": [
    "%matplotlib inline\n",
    "\n",
    "import numpy as np\n",
    "import matplotlib.pyplot as plt\n",
    "import seaborn as sns\n",
    "sns.set_theme()\n",
    "\n",
    "A = np.random.randint(0, 100, size=(200, 50))\n",
    "A"
   ]
  },
  {
   "cell_type": "markdown",
   "metadata": {},
   "source": [
    "# Задание 2.1 (2 балла)\n",
    "\n",
    "Сгенерируйте новый массив, в котором столбцы массива `A` переставлены в случайном порядке"
   ]
  },
  {
   "cell_type": "code",
   "execution_count": 2,
   "metadata": {},
   "outputs": [
    {
     "data": {
      "text/plain": [
       "array([[65,  4, 99, ..., 87, 94, 78],\n",
       "       [60, 51, 19, ..., 57, 87, 97],\n",
       "       [46, 24, 41, ..., 58, 98, 88],\n",
       "       ...,\n",
       "       [11, 37, 35, ..., 50, 32, 57],\n",
       "       [22, 50,  4, ..., 69, 17,  0],\n",
       "       [20, 34, 50, ..., 97, 49, 31]])"
      ]
     },
     "execution_count": 2,
     "metadata": {},
     "output_type": "execute_result"
    }
   ],
   "source": [
    "rng = np.random.default_rng()\n",
    "\n",
    "rng.shuffle(A, axis=1)\n",
    "A"
   ]
  },
  {
   "cell_type": "markdown",
   "metadata": {},
   "source": [
    "# Задание 2.2 (5 баллов)\n",
    "\n",
    "Сгенерируйте новый массив, который содержит только те строки массива `A`, в которых: \n",
    "- сумма элементов по четным столбцам (индексы $0, 2, \\ldots$) больше среднего значения (по всему массиву) суммы элементов по нечетным столбцам (индексы $1, 3, \\ldots$) "
   ]
  },
  {
   "cell_type": "code",
   "execution_count": 3,
   "metadata": {},
   "outputs": [
    {
     "data": {
      "text/plain": [
       "array([[46, 24, 41, ..., 58, 98, 88],\n",
       "       [20, 98, 31, ..., 60, 65, 31],\n",
       "       [70, 84, 65, ..., 39, 37, 78],\n",
       "       ...,\n",
       "       [ 1, 11, 67, ..., 59, 26, 32],\n",
       "       [11, 37, 35, ..., 50, 32, 57],\n",
       "       [22, 50,  4, ..., 69, 17,  0]])"
      ]
     },
     "execution_count": 3,
     "metadata": {},
     "output_type": "execute_result"
    }
   ],
   "source": [
    "A[A[:, ::2].sum(axis=1) > A[:, 1::2].sum(axis=1).mean()]"
   ]
  },
  {
   "cell_type": "markdown",
   "metadata": {},
   "source": [
    "# Задача 2.3 (3 балла)\n",
    "\n",
    "Найдите индекс строки массива `A`, в которой разница между максимальным и минимальным элементом максимальна"
   ]
  },
  {
   "cell_type": "code",
   "execution_count": 4,
   "metadata": {},
   "outputs": [
    {
     "data": {
      "text/plain": [
       "8"
      ]
     },
     "execution_count": 4,
     "metadata": {},
     "output_type": "execute_result"
    }
   ],
   "source": [
    "np.argmax(A.max(axis=1) - A.min(axis=1))"
   ]
  },
  {
   "cell_type": "markdown",
   "metadata": {},
   "source": [
    "# Задание 2.4 (7 баллов)\n",
    "\n",
    "Сгенерируйте массив той же размерности, что и `A`, но в котором каждый элемент заменен на его порядковый номер (начиная с 1) в отсортированном по возрастанию массиве из элементов `A`\n",
    "\n",
    "Если `A` выглядит так:\n",
    "$$\n",
    "\\begin{pmatrix}\n",
    "12 & 14\\\\\n",
    "1 & 2\n",
    "\\end{pmatrix}\n",
    "$$\n",
    "то результат должен быть\n",
    "$$\n",
    "\\begin{pmatrix}\n",
    "3 & 4\\\\\n",
    "1 & 2\n",
    "\\end{pmatrix}\n",
    "$$\n",
    "\n",
    "*Tip: рассмотрите возможность неоднократного применения [argsort()](https://numpy.org/doc/stable/reference/generated/numpy.ndarray.argsort.html)*"
   ]
  },
  {
   "cell_type": "code",
   "execution_count": 5,
   "metadata": {},
   "outputs": [
    {
     "data": {
      "text/plain": [
       "array([[6497,  507, 9919, ..., 8724, 9420, 7846],\n",
       "       [5996, 5143, 1922, ..., 5754, 8710, 9777],\n",
       "       [4657, 2445, 4134, ..., 5810, 9813, 8859],\n",
       "       ...,\n",
       "       [1144, 3734, 3518, ..., 5045, 3232, 5740],\n",
       "       [2219, 5048,  423, ..., 6857, 1722,    5],\n",
       "       [2005, 3451, 5088, ..., 9760, 4936, 3150]], dtype=int64)"
      ]
     },
     "execution_count": 5,
     "metadata": {},
     "output_type": "execute_result"
    }
   ],
   "source": [
    "A.argsort(axis=None).argsort().reshape(A.shape) + 1"
   ]
  },
  {
   "cell_type": "markdown",
   "metadata": {},
   "source": [
    "# Задание 2.5 (2 балла)\n",
    "\n",
    "Примените $\\min-\\max$ - нормализацию к строкам массива `A`. То есть нужно получить новый массивы, в каждой строке которого максимальный элементы равен $1$, минимальный - $0$. "
   ]
  },
  {
   "cell_type": "code",
   "execution_count": 6,
   "metadata": {},
   "outputs": [
    {
     "data": {
      "text/plain": [
       "array([[0.64948454, 0.02061856, 1.        , ..., 0.87628866, 0.94845361,\n",
       "        0.78350515],\n",
       "       [0.60215054, 0.50537634, 0.16129032, ..., 0.56989247, 0.89247312,\n",
       "        1.        ],\n",
       "       [0.44210526, 0.21052632, 0.38947368, ..., 0.56842105, 0.98947368,\n",
       "        0.88421053],\n",
       "       ...,\n",
       "       [0.10204082, 0.36734694, 0.34693878, ..., 0.5       , 0.31632653,\n",
       "        0.57142857],\n",
       "       [0.22222222, 0.50505051, 0.04040404, ..., 0.6969697 , 0.17171717,\n",
       "        0.        ],\n",
       "       [0.20618557, 0.35051546, 0.51546392, ..., 1.        , 0.50515464,\n",
       "        0.31958763]])"
      ]
     },
     "execution_count": 6,
     "metadata": {},
     "output_type": "execute_result"
    }
   ],
   "source": [
    "(A - np.vstack(A.min(axis=1))) / np.vstack(A.max(axis=1) - A.min(axis=1))"
   ]
  },
  {
   "cell_type": "markdown",
   "metadata": {},
   "source": [
    "# Задание 2.6 (2 балла)\n",
    "\n",
    "Сгенерируйте новый трехмерный массив, размерности $10 \\times 200 \\times 50$. Подмассивы по нулевой оси должны состоять из элементов `A`, умноженных на $1 - 10$ соответственно"
   ]
  },
  {
   "cell_type": "code",
   "execution_count": 7,
   "metadata": {},
   "outputs": [
    {
     "data": {
      "text/plain": [
       "array([[[ 65,   4,  99, ...,  87,  94,  78],\n",
       "        [ 60,  51,  19, ...,  57,  87,  97],\n",
       "        [ 46,  24,  41, ...,  58,  98,  88],\n",
       "        ...,\n",
       "        [ 11,  37,  35, ...,  50,  32,  57],\n",
       "        [ 22,  50,   4, ...,  69,  17,   0],\n",
       "        [ 20,  34,  50, ...,  97,  49,  31]],\n",
       "\n",
       "       [[130,   8, 198, ..., 174, 188, 156],\n",
       "        [120, 102,  38, ..., 114, 174, 194],\n",
       "        [ 92,  48,  82, ..., 116, 196, 176],\n",
       "        ...,\n",
       "        [ 22,  74,  70, ..., 100,  64, 114],\n",
       "        [ 44, 100,   8, ..., 138,  34,   0],\n",
       "        [ 40,  68, 100, ..., 194,  98,  62]],\n",
       "\n",
       "       [[195,  12, 297, ..., 261, 282, 234],\n",
       "        [180, 153,  57, ..., 171, 261, 291],\n",
       "        [138,  72, 123, ..., 174, 294, 264],\n",
       "        ...,\n",
       "        [ 33, 111, 105, ..., 150,  96, 171],\n",
       "        [ 66, 150,  12, ..., 207,  51,   0],\n",
       "        [ 60, 102, 150, ..., 291, 147,  93]],\n",
       "\n",
       "       ...,\n",
       "\n",
       "       [[520,  32, 792, ..., 696, 752, 624],\n",
       "        [480, 408, 152, ..., 456, 696, 776],\n",
       "        [368, 192, 328, ..., 464, 784, 704],\n",
       "        ...,\n",
       "        [ 88, 296, 280, ..., 400, 256, 456],\n",
       "        [176, 400,  32, ..., 552, 136,   0],\n",
       "        [160, 272, 400, ..., 776, 392, 248]],\n",
       "\n",
       "       [[585,  36, 891, ..., 783, 846, 702],\n",
       "        [540, 459, 171, ..., 513, 783, 873],\n",
       "        [414, 216, 369, ..., 522, 882, 792],\n",
       "        ...,\n",
       "        [ 99, 333, 315, ..., 450, 288, 513],\n",
       "        [198, 450,  36, ..., 621, 153,   0],\n",
       "        [180, 306, 450, ..., 873, 441, 279]],\n",
       "\n",
       "       [[650,  40, 990, ..., 870, 940, 780],\n",
       "        [600, 510, 190, ..., 570, 870, 970],\n",
       "        [460, 240, 410, ..., 580, 980, 880],\n",
       "        ...,\n",
       "        [110, 370, 350, ..., 500, 320, 570],\n",
       "        [220, 500,  40, ..., 690, 170,   0],\n",
       "        [200, 340, 500, ..., 970, 490, 310]]])"
      ]
     },
     "execution_count": 7,
     "metadata": {},
     "output_type": "execute_result"
    }
   ],
   "source": [
    "A * np.arange(1, 11).reshape(10, 1, 1)"
   ]
  },
  {
   "cell_type": "markdown",
   "metadata": {},
   "source": [
    "# Задание 2.7 (2 балла)\n",
    "\n",
    "Создайте новый массив, такой же размерности, как и `A`, в котором сначала сгруппированы четные столбцы `A`, потом  нечетные. Используйте [np.concat()](https://numpy.org/doc/stable/reference/generated/numpy.concatenate.html) "
   ]
  },
  {
   "cell_type": "code",
   "execution_count": 8,
   "metadata": {},
   "outputs": [
    {
     "data": {
      "text/plain": [
       "array([[65, 99, 42, ..., 78, 87, 78],\n",
       "       [60, 19, 23, ..., 18, 57, 97],\n",
       "       [46, 41, 30, ..., 71, 58, 88],\n",
       "       ...,\n",
       "       [11, 35, 75, ..., 56, 50, 57],\n",
       "       [22,  4, 90, ..., 99, 69,  0],\n",
       "       [20, 50,  8, ..., 17, 97, 31]])"
      ]
     },
     "execution_count": 8,
     "metadata": {},
     "output_type": "execute_result"
    }
   ],
   "source": [
    "np.concatenate((A[:, ::2], A[:, 1::2]), axis=1)"
   ]
  },
  {
   "cell_type": "markdown",
   "metadata": {},
   "source": [
    "# Задание 2.8 (2 балла)\n",
    "\n",
    "Посчитайте количество строк массива `A`, в который все элементы больше 5. Используйте [np.all()](https://numpy.org/doc/stable/reference/generated/numpy.all.html) "
   ]
  },
  {
   "cell_type": "code",
   "execution_count": 9,
   "metadata": {},
   "outputs": [
    {
     "data": {
      "text/plain": [
       "5"
      ]
     },
     "execution_count": 9,
     "metadata": {},
     "output_type": "execute_result"
    }
   ],
   "source": [
    "np.count_nonzero(np.all(A > 5, axis=1))"
   ]
  },
  {
   "cell_type": "markdown",
   "metadata": {},
   "source": [
    "# Задание 2.9 (2 балла)\n",
    "\n",
    "Поделите массив `A` горизонтально на 10 частей и создайте новый массив размерности $20 \\times 50$, который состоит из средних этих частей. Используйте [np.split()](https://numpy.org/doc/stable/reference/generated/numpy.split.html)"
   ]
  },
  {
   "cell_type": "code",
   "execution_count": 10,
   "metadata": {},
   "outputs": [
    {
     "data": {
      "text/plain": [
       "array([[52.3, 41.1, 41.2, 57.7, 45.7, 42.6, 60.3, 59.3, 63.2, 51.3, 58.5,\n",
       "        58.3, 33.9, 16.9, 62.5, 41.1, 54.9, 41.1, 45.9, 53.1, 33.4, 28.1,\n",
       "        47.8, 53.9, 56.5, 59.1, 50.3, 35.2, 49.5, 51. , 42.6, 38.9, 38.3,\n",
       "        32.3, 59. , 53.4, 53.5, 62.1, 36.3, 59.4, 60.4, 48.8, 60.4, 44.4,\n",
       "        33.6, 59.8, 64.6, 55.6, 51.5, 65.5],\n",
       "       [51.9, 49.1, 75.2, 61.4, 52.6, 54.7, 56.7, 54.2, 44.9, 47.7, 46.2,\n",
       "        72.1, 40.1, 45.7, 49. , 64.9, 24.9, 63.4, 40.6, 63.4, 32.5, 35.6,\n",
       "        61.7, 61.5, 62.3, 62.7, 62.7, 42.3, 44.2, 37.9, 51.7, 62.3, 48.8,\n",
       "        40.2, 42.1, 42.5, 44.9, 56.7, 64.2, 42.1, 43.7, 60.2, 42.5, 50.8,\n",
       "        41.5, 47.2, 55.2, 65.2, 45.8, 41.5],\n",
       "       [47.2, 29.8, 50.7, 46.5, 33.2, 51.7, 61.4, 77.3, 47.7, 53.2, 43.9,\n",
       "        47.7, 57.5, 53.1, 48.8, 35.6, 50.9, 51.8, 51. , 52.2, 63.6, 46.2,\n",
       "        54. , 43.8, 41.4, 58.6, 55.6, 37.2, 43.9, 42.4, 45.1, 57.7, 62.7,\n",
       "        42.6, 37.4, 46.4, 59.3, 38.4, 48.9, 53.4, 40.9, 58.5, 46.7, 44.8,\n",
       "        53.5, 45. , 50.5, 53.1, 47.8, 58.1],\n",
       "       [63.4, 69.9, 50.4, 54.1, 40.3, 50.8, 47.5, 43.1, 49.2, 52.9, 52. ,\n",
       "        42.2, 45.2, 42.2, 58.7, 38. , 50.4, 33.7, 41.2, 54.2, 37.1, 45.7,\n",
       "        64.4, 54.5, 45.9, 52.2, 47.1, 52.7, 55.7, 53. , 52.3, 35.4, 57.2,\n",
       "        55.9, 46.5, 49.1, 24.5, 45.3, 56.1, 31.3, 27.1, 38.6, 51.1, 43.3,\n",
       "        42.6, 45.1, 43.6, 61.4, 33.5, 41.5],\n",
       "       [46.1, 50.2, 60.5, 42.8, 39.2, 40.3, 46.6, 46. , 73.6, 43.3, 41.7,\n",
       "        47.1, 41.5, 48.9, 28.5, 46.7, 47.5, 36.6, 49.9, 48.8, 60. , 45.7,\n",
       "        54.3, 60.4, 43.8, 49.2, 52.5, 59.6, 47.9, 37.9, 27.1, 38. , 44.9,\n",
       "        43.5, 46.8, 40.8, 69.2, 59.1, 57.7, 39.4, 39.8, 52.4, 63.8, 47.7,\n",
       "        42. , 54.7, 50.4, 37.1, 56.3, 38.4],\n",
       "       [50.1, 64.2, 39.9, 56.7, 51.2, 61.7, 54.9, 42.5, 58.7, 57.4, 78.8,\n",
       "        42.2, 42.2, 59.6, 38.9, 39.2, 61.8, 46.5, 55.6, 37.6, 39. , 58.2,\n",
       "        35.8, 53.7, 40.5, 57. , 50.4, 46.1, 34. , 47.9, 53.2, 69.2, 56.6,\n",
       "        50.7, 57.6, 68.9, 52.3, 57.4, 49.1, 43.7, 63.2, 38.1, 46.7, 28. ,\n",
       "        38.5, 49.8, 68.7, 60.6, 68.4, 44.5],\n",
       "       [37.7, 57.2, 48.3, 61.3, 40.8, 62.9, 61.6, 52.6, 50.8, 59.1, 59.7,\n",
       "        37.3, 54.8, 38.4, 66.3, 47.2, 48.1, 45.5, 49.6, 44.6, 45.2, 49.3,\n",
       "        66.4, 51.3, 41.6, 35.4, 55.3, 31.5, 36.5, 52.7, 42.2, 53. , 51.6,\n",
       "        43.1, 46.8, 38.2, 61.7, 60.7, 53.7, 63. , 49.8, 38.2, 51.5, 37. ,\n",
       "        62.4, 37. , 59.7, 34. , 46.2, 53. ],\n",
       "       [52. , 39.1, 38.4, 59.8, 43. , 33.1, 48.8, 56.7, 40.9, 55.4, 42.2,\n",
       "        35.3, 49.6, 70. , 52.2, 60.1, 37.1, 57. , 46.3, 66.4, 53.9, 42.2,\n",
       "        67. , 50.4, 45.7, 65. , 57.1, 48.9, 44.3, 56.5, 55.3, 39.2, 64. ,\n",
       "        43.2, 37.9, 32.1, 37.7, 49.6, 39.5, 39.9, 61. , 68. , 58. , 55.7,\n",
       "        47.5, 45.1, 46.4, 71.5, 52.9, 42.4],\n",
       "       [65.2, 59.4, 50.5, 42.3, 57.1, 40.7, 54. , 51.9, 55.1, 58.5, 54.6,\n",
       "        46.7, 47.4, 49.5, 64.9, 63.5, 49.2, 40.8, 50.8, 34.2, 49.8, 43.4,\n",
       "        62.3, 47.4, 56.4, 55.5, 50. , 51. , 44.5, 67.3, 36.2, 39.4, 51.3,\n",
       "        32.9, 32.8, 50.2, 45.8, 59.6, 44.7, 59.8, 63. , 48.5, 42.5, 66.4,\n",
       "        68.6, 48.3, 46.3, 46.8, 49.3, 41.8],\n",
       "       [42.6, 47.2, 66.5, 54.1, 43.8, 41.7, 54.3, 39.5, 48.1, 56.7, 46.4,\n",
       "        57.5, 45.5, 65.1, 63. , 48.4, 53.8, 33.8, 52.8, 30.4, 53.8, 43.5,\n",
       "        51.9, 48.7, 44.8, 47.4, 56.4, 55.1, 38.3, 61.7, 53.3, 49.7, 40.3,\n",
       "        53.1, 42.7, 45.7, 59.7, 41.1, 36.2, 60.7, 51.6, 64.8, 63.1, 64.5,\n",
       "        46.2, 44.4, 45.3, 43.4, 48.3, 51.3],\n",
       "       [62.5, 53.7, 52.4, 50.4, 73.4, 62.3, 57.3, 67. , 51. , 44.3, 45.8,\n",
       "        53.9, 31.9, 52.7, 35.3, 57.2, 32.8, 36. , 44.9, 44.1, 50.2, 43.2,\n",
       "        48.2, 56.9, 36.4, 63. , 46.6, 51.4, 45.3, 59.9, 41.7, 36.5, 49.5,\n",
       "        67.6, 53.9, 46. , 52.1, 55.6, 57.9, 44.1, 51.1, 50.6, 39.9, 51.5,\n",
       "        45.4, 64.7, 57.9, 56.4, 56.5, 52.2],\n",
       "       [53.3, 41.3, 35.6, 52.6, 44.4, 45.5, 51. , 37.1, 69.1, 40.5, 60.5,\n",
       "        53.8, 56.9, 61.6, 47.2, 42.1, 34.7, 50.5, 60.4, 39.1, 45.3, 45.9,\n",
       "        75.7, 37.5, 50.6, 38.7, 59.4, 63.4, 39. , 68.2, 63.3, 45.8, 50.8,\n",
       "        45.7, 37.4, 49.3, 56.4, 40.1, 51.8, 62.2, 45.8, 45.1, 74.9, 53.4,\n",
       "        59.2, 53.2, 57.5, 51. , 43.6, 38.8],\n",
       "       [43.6, 47.1, 43.4, 55. , 45.6, 51.2, 60.8, 41.8, 47.8, 47.3, 54.5,\n",
       "        55.5, 62.4, 44.7, 52.6, 39. , 65. , 55.8, 63.7, 48. , 53.5, 47.6,\n",
       "        45.9, 47. , 57.1, 61.7, 57.3, 38.1, 51.8, 68.1, 41.1, 54.7, 37.7,\n",
       "        65.2, 64.1, 48.5, 61.8, 53.8, 59.6, 42.5, 43.8, 46.8, 51. , 60.1,\n",
       "        35.6, 36.1, 71.8, 55.2, 41.6, 58.4],\n",
       "       [52.6, 47.4, 68.7, 52.8, 41.4, 43.5, 61.7, 43.8, 55.7, 48.2, 58.4,\n",
       "        61.7, 36.8, 53.6, 49.4, 36.5, 48.3, 40.8, 51. , 56.1, 29.8, 57.4,\n",
       "        55. , 52.9, 42.4, 48.2, 42.7, 47.1, 46. , 60.2, 39.6, 50.3, 54.4,\n",
       "        35.8, 34.1, 49. , 55.1, 44.3, 40.3, 62. , 60.4, 50.8, 58.7, 66.3,\n",
       "        64.3, 52.3, 36.6, 44.6, 56.4, 71.9],\n",
       "       [31.7, 50.1, 45.3, 53.7, 47.9, 54.3, 41.4, 52.1, 41.8, 37.5, 51.5,\n",
       "        37.2, 61.4, 71.3, 39.1, 47.7, 50. , 42.9, 58. , 44.8, 38.3, 56.6,\n",
       "        54.3, 79.9, 48.1, 50. , 48.8, 42.2, 37.8, 43.7, 15.9, 48.2, 37.5,\n",
       "        47. , 49.9, 64.8, 68. , 63.9, 41.9, 43.8, 61.1, 52.3, 39.9, 65.1,\n",
       "        38.3, 49. , 53.5, 54.1, 62. , 31. ],\n",
       "       [42.1, 42.5, 47.3, 53.4, 42.1, 49. , 49.5, 33.3, 54.7, 44.4, 53.6,\n",
       "        51.8, 46.5, 55.5, 43.4, 53.4, 38.7, 54.1, 55.1, 43.7, 40.1, 63.3,\n",
       "        54.9, 46. , 53.1, 35.7, 51.3, 41.3, 51. , 63.8, 42.7, 47. , 46.5,\n",
       "        34.3, 53.5, 61.1, 42.9, 59.1, 56.6, 52.6, 46.8, 77.8, 48.8, 46.3,\n",
       "        62.3, 36.9, 65.4, 47.1, 41.3, 43.2],\n",
       "       [49.9, 53.4, 55.1, 44.6, 42.4, 48.8, 53.6, 40.6, 51.2, 45.9, 54.2,\n",
       "        52.6, 55.3, 48.2, 44.4, 50.9, 46.8, 73.8, 56. , 41.8, 54.7, 70.4,\n",
       "        53. , 61.9, 55.8, 46.9, 61.1, 54.1, 42.2, 30.6, 37.3, 45.9, 50.1,\n",
       "        55.3, 47.7, 58.5, 41.6, 54.1, 49.8, 34.9, 64.6, 52.2, 49.7, 45.1,\n",
       "        45.2, 45.9, 55.4, 54.8, 55.9, 40.2],\n",
       "       [32.4, 60.6, 48.2, 57.8, 57.2, 53.7, 55.2, 51.4, 42.3, 48.8, 54.5,\n",
       "        57.1, 46.7, 47.3, 50.8, 51.2, 43.5, 46.3, 30.2, 48.7, 58.8, 45. ,\n",
       "        62.9, 31. , 37.5, 55.4, 44.5, 42.5, 38.5, 55.3, 41.1, 51.3, 38.1,\n",
       "        71.8, 43.8, 41.4, 47.6, 37.1, 49. , 43.9, 48.8, 50.2, 27.9, 49. ,\n",
       "        52.4, 52.4, 49.6, 50.2, 59.4, 55.2],\n",
       "       [59. , 40.6, 34.6, 37.1, 40. , 41. , 62.4, 61.5, 50.5, 53.6, 48.5,\n",
       "        39.7, 54.6, 39. , 52.6, 49.3, 49.6, 38. , 49.6, 50.2, 48.3, 44.2,\n",
       "        45.4, 51.5, 30.1, 42.7, 42.7, 52.6, 37.6, 55.6, 49.7, 39.2, 41.9,\n",
       "        52.3, 71.9, 32.4, 70.8, 44. , 72.7, 56.1, 51.3, 36.1, 53.4, 46.9,\n",
       "        48.5, 61.3, 73.1, 43. , 38. , 48.2],\n",
       "       [44.6, 41.7, 43.1, 36.7, 45.4, 46.3, 41.4, 58. , 54.6, 29.9, 44.2,\n",
       "        52. , 36.7, 68.8, 58.2, 52.2, 32.3, 48.4, 34.8, 49.5, 42. , 45.8,\n",
       "        43.1, 52. , 38.4, 48.6, 58.2, 64.1, 52.6, 54.9, 60.6, 72.2, 56.5,\n",
       "        41.6, 66.1, 35.2, 46.3, 54.2, 31.5, 71.9, 42.4, 31.1, 33.7, 46.7,\n",
       "        60.5, 38.3, 60. , 50.2, 57.8, 59.1]])"
      ]
     },
     "execution_count": 10,
     "metadata": {},
     "output_type": "execute_result"
    }
   ],
   "source": [
    "np.array(np.split(A, 10)).mean(axis=0)"
   ]
  },
  {
   "cell_type": "markdown",
   "metadata": {},
   "source": [
    "# Задание 2.10 (4 балла)\n",
    "\n",
    "\"Разверните\" массив `A` в одномерный массив. Оставьте в нём только уникальные элементы в том же порядке, в котором они встречаются в массиве. Используйте [np.unique()](https://numpy.org/doc/stable/reference/generated/numpy.unique.html)"
   ]
  },
  {
   "cell_type": "code",
   "execution_count": 11,
   "metadata": {},
   "outputs": [
    {
     "data": {
      "text/plain": [
       "array([65,  4, 99, 46, 42, 28, 97, 11, 34, 59, 16,  2, 51, 19, 78, 57, 69,\n",
       "       47, 35, 12, 93, 56, 43, 44, 64, 32, 33, 29,  9,  5, 50, 72, 26, 92,\n",
       "       13, 31, 87, 94, 60, 23, 63, 96, 24, 75, 21, 38, 14, 40, 70, 22, 67,\n",
       "       84, 17,  8, 18, 71, 41, 77, 85, 30, 82, 62, 95, 89, 49, 36, 86, 76,\n",
       "       58, 98, 88, 66, 52,  3,  1, 74,  6, 83, 81, 48, 27, 15, 91, 20, 10,\n",
       "       45,  0,  7, 39, 73, 37, 25, 61, 79, 68, 54, 90, 55, 80, 53])"
      ]
     },
     "execution_count": 11,
     "metadata": {},
     "output_type": "execute_result"
    }
   ],
   "source": [
    "u, ind = np.unique(A.flatten(), return_index=True)\n",
    "u[np.argsort(ind)]"
   ]
  },
  {
   "cell_type": "markdown",
   "metadata": {},
   "source": [
    "# Задание 2.11 (3 балла)\n",
    "\n",
    "Создайте одномерный массив размерности $200$, в котором каждый элемент - евклидово расстояние между соответствующей строкой `A` и \"средней\" строкой `A`"
   ]
  },
  {
   "cell_type": "code",
   "execution_count": 12,
   "metadata": {},
   "outputs": [
    {
     "data": {
      "text/plain": [
       "array([203.09036812, 194.18382431, 198.55487308, 220.10401547,\n",
       "       208.02431979, 193.31512518, 177.67720063, 209.30857036,\n",
       "       218.01467296, 206.16856604, 213.18899508, 238.09926003,\n",
       "       191.43416003, 212.50632373, 201.38931855, 182.42129159,\n",
       "       210.51994591, 190.81849393, 212.71503855, 212.74996504,\n",
       "       217.73609628, 230.86995826, 194.32595716, 212.7898438 ,\n",
       "       195.73890166, 216.95026533, 198.49135403, 207.0898057 ,\n",
       "       204.98045669, 219.40111127, 205.28333499, 223.92116386,\n",
       "       183.4451897 , 179.85248851, 203.19357181, 182.31156745,\n",
       "       205.79501361, 206.86156633, 223.50030789, 200.20533865,\n",
       "       193.35521101, 219.44700414, 200.84968913, 209.52526727,\n",
       "       200.04181469, 212.90530201, 191.52088039, 190.08650038,\n",
       "       224.66434436, 193.78056565, 196.37071478, 221.18607014,\n",
       "       193.4427244 , 203.96508923, 186.78291577, 187.60047341,\n",
       "       201.8844165 , 211.42045224, 184.69625774, 206.26080002,\n",
       "       204.22509059, 189.84377163, 212.00574904, 199.00848631,\n",
       "       193.63581184, 200.01986808, 200.8672637 , 208.50387916,\n",
       "       186.46543279, 222.06014416, 212.23875147, 198.68934955,\n",
       "       222.15521066, 191.25430093, 220.26883035, 204.84430093,\n",
       "       221.67220761, 211.91537845, 184.29898976, 220.79804715,\n",
       "       209.12579378, 219.05309316, 202.49150013, 196.12750349,\n",
       "       216.71222306, 213.33074702, 217.73370806, 225.94782058,\n",
       "       209.81863031, 201.5628131 , 180.01829803, 179.1146773 ,\n",
       "       212.1316752 , 188.75329832, 218.38348753, 203.20747433,\n",
       "       189.30820802, 211.9664776 , 222.27813123, 197.82618033,\n",
       "       217.32196765, 199.88423556, 192.72209947, 203.80463102,\n",
       "       200.56509573, 200.52742362, 190.93723478, 184.40164757,\n",
       "       192.97724639, 201.1347002 , 210.03522949, 218.87833978,\n",
       "       213.28515566, 174.19893118, 229.20625564, 227.19871836,\n",
       "       195.53883917, 180.27544931, 185.5462412 , 239.28382232,\n",
       "       208.00456155, 206.68001264, 194.44826465, 194.99486564,\n",
       "       226.79984044, 173.86496952, 202.29717651, 203.50316367,\n",
       "       196.63188354, 213.9656459 , 221.37406719, 205.66586402,\n",
       "       212.15095481, 205.61670074, 191.19468514, 209.77213262,\n",
       "       184.49096895, 211.65896538, 205.67585572, 196.37040924,\n",
       "       217.73251394, 200.91679279, 186.47200226, 193.04053363,\n",
       "       177.43631992, 216.37561698, 206.40769759, 190.18096021,\n",
       "       199.2811773 , 211.18358749, 209.01298435, 190.36065146,\n",
       "       206.13463471, 201.5998949 , 194.87218279, 209.23027416,\n",
       "       207.66226818, 190.9059654 , 200.54746975, 206.0549141 ,\n",
       "       189.23339458, 212.17723164, 223.7242893 , 180.24588102,\n",
       "       194.88944975, 200.13080129, 217.53978401, 197.31360223,\n",
       "       218.18539737, 192.99657413, 213.0736202 , 201.58483977,\n",
       "       207.65015681, 189.5555265 , 199.6835437 , 231.30771199,\n",
       "       187.07286715, 225.2006386 , 196.46393467, 201.18722033,\n",
       "       200.29208078, 205.32933942, 186.32666912, 185.41161675,\n",
       "       195.12695258, 206.37140699, 203.39497935, 209.22243576,\n",
       "       202.9138675 , 179.56031751, 200.74899159, 203.42737678,\n",
       "       216.11239582, 208.95714303, 216.17122293, 199.20240366,\n",
       "       201.33772032, 198.3242235 , 231.24231366, 204.64500391])"
      ]
     },
     "execution_count": 12,
     "metadata": {},
     "output_type": "execute_result"
    }
   ],
   "source": [
    "mean = A.mean(axis=0)\n",
    "np.sqrt(np.sum((A - mean) ** 2, axis=1))"
   ]
  },
  {
   "cell_type": "markdown",
   "metadata": {},
   "source": [
    "# Задание 2.12 (2 балла)\n",
    "\n",
    "Создайте новый массив, который состоит из элементов `A`, измененных по следующим правилам:\n",
    "- если элемент меньше $50$, то он умножается на $2$\n",
    "- в противном случае он умножается на $3$\n",
    "\n",
    "Используйте [np.where()](https://numpy.org/doc/stable/reference/generated/numpy.where.html)"
   ]
  },
  {
   "cell_type": "code",
   "execution_count": 13,
   "metadata": {},
   "outputs": [
    {
     "data": {
      "text/plain": [
       "array([[195,   8, 297, ..., 261, 282, 234],\n",
       "       [180, 153,  38, ..., 171, 261, 291],\n",
       "       [ 92,  48,  82, ..., 174, 294, 264],\n",
       "       ...,\n",
       "       [ 22,  74,  70, ..., 150,  64, 171],\n",
       "       [ 44, 150,   8, ..., 207,  34,   0],\n",
       "       [ 40,  68, 150, ..., 291,  98,  62]])"
      ]
     },
     "execution_count": 13,
     "metadata": {},
     "output_type": "execute_result"
    }
   ],
   "source": [
    "np.where(A < 50, A * 2, A * 3)"
   ]
  },
  {
   "cell_type": "markdown",
   "metadata": {},
   "source": [
    "# Задание 2.13 (7 баллов)\n",
    "\n",
    "Разверните массив `A` в одномерный массив. Создайте три новых массива, подсчитав скользящие средние по окнам $3$, $5$, $10$. Найдите сумму этих массивов, выровнив их размерности нулями справа.\n",
    "\n",
    "*Tip: реализуйте функцию, которая считает скользящее среднее. Используйте [np.cumsum()](https://numpy.org/doc/stable/reference/generated/numpy.cumsum.html) или [np.convolve()](https://numpy.org/doc/stable/reference/generated/numpy.convolve.html)*"
   ]
  },
  {
   "cell_type": "code",
   "execution_count": 14,
   "metadata": {},
   "outputs": [
    {
     "data": {
      "text/plain": [
       "array([154.4       , 143.66666667, 162.33333333, ...,  99.73333333,\n",
       "        63.        ,  59.        ])"
      ]
     },
     "execution_count": 14,
     "metadata": {},
     "output_type": "execute_result"
    }
   ],
   "source": [
    "def moving_average(arr, window):\n",
    "    return np.convolve(arr, np.ones(window), \"valid\") / window\n",
    "\n",
    "(moving_average(A.flatten(), 3) + \n",
    "np.concatenate((moving_average(A.flatten(), 5), np.zeros(2))) + \n",
    "np.concatenate((moving_average(A.flatten(), 10), np.zeros(7))))"
   ]
  },
  {
   "cell_type": "markdown",
   "metadata": {},
   "source": [
    "# Задание 2.14 (8 баллов)\n",
    "\n",
    "Постройте график функции $$f(x) = (5  \\sin(2x) - \\cos^2(x) - 1 + |x^3| - x^2) / (x^2 + 1)$$  \n",
    "\n",
    "и производной от этой функции.  Найдите минимум с помощью `scipy` и обозначьте его на графике. На этой же оси постройте графики скользящего среднего этой функции с окном $1$, $2$, $5$."
   ]
  },
  {
   "cell_type": "code",
   "execution_count": 15,
   "metadata": {},
   "outputs": [
    {
     "data": {
      "image/png": "[encoded data removed]",
      "text/plain": [
       "<Figure size 640x480 with 1 Axes>"
      ]
     },
     "metadata": {},
     "output_type": "display_data"
    }
   ],
   "source": [
    "from scipy.misc import derivative\n",
    "from scipy.optimize import fmin_bfgs\n",
    "\n",
    "f = lambda x: (5 * np.sin(2 * x) - np.cos(x) ** 2 - 1 + np.abs(x ** 3) - x ** 2) / (x ** 2 + 1)\n",
    "\n",
    "x = np.linspace(-7, 7, 400)\n",
    "y = f(x)\n",
    "\n",
    "plt.plot(x, y)\n",
    "plt.plot(x, derivative(f, x, dx=1e-6))\n",
    "\n",
    "min = fmin_bfgs(f, 0, disp=False)\n",
    "plt.scatter(min, f(min))\n",
    "\n",
    "plt.plot(x, moving_average(y, 1))\n",
    "plt.plot(x[1:], moving_average(y, 2))\n",
    "plt.plot(x[2:-2], moving_average(y, 5))\n",
    "\n",
    "plt.show()"
   ]
  },
  {
   "cell_type": "markdown",
   "metadata": {},
   "source": [
    "# Задание 2.15 (10 баллов)\n",
    "\n",
    "Есть следующий алгоритм семплинирования, на вход функции подается вектор из целых положительных чисел и число семплов."
   ]
  },
  {
   "cell_type": "code",
   "execution_count": 16,
   "metadata": {},
   "outputs": [
    {
     "data": {
      "text/plain": [
       "[4, 0, 0, 4, 4]"
      ]
     },
     "execution_count": 16,
     "metadata": {},
     "output_type": "execute_result"
    }
   ],
   "source": [
    "from typing import List \n",
    "\n",
    "def sample(x: List[int], c: int) -> List[int]:\n",
    "    assert len(x) > 0\n",
    "    \n",
    "    s = np.sum(x)\n",
    "    res = []\n",
    "    for _ in range(c):\n",
    "        val = s * np.random.random()\n",
    "        cur, idx = 0, 0        \n",
    "        while cur + x[idx] <= val:\n",
    "            cur += x[idx]\n",
    "            idx += 1\n",
    "            \n",
    "        res.append(idx)\n",
    "    return res\n",
    "\n",
    "            \n",
    "sample([50, 3, 1, 7, 20], 5)   "
   ]
  },
  {
   "cell_type": "markdown",
   "metadata": {},
   "source": [
    "Реализуйте данный алгоритм более оптимальным способом на массивах `numpy`, без использования циклов. Проверьте корректность и идентичность алгоритмов семплирования с помощью статистических тестов."
   ]
  },
  {
   "cell_type": "code",
   "execution_count": 17,
   "metadata": {},
   "outputs": [
    {
     "data": {
      "text/plain": [
       "array([0, 0, 4, 4, 0], dtype=int64)"
      ]
     },
     "execution_count": 17,
     "metadata": {},
     "output_type": "execute_result"
    }
   ],
   "source": [
    "import numpy.typing as npt\n",
    "\n",
    "def np_sample(x: npt.NDArray[np.int64], c: int) -> npt.NDArray[np.int64]:\n",
    "    assert x.size > 0\n",
    "\n",
    "    cumsum = np.cumsum(x)\n",
    "    val = np.random.rand(c) * np.sum(x)\n",
    "    res = np.argmax(cumsum > val.reshape(c, 1), axis=1)\n",
    "\n",
    "    return res\n",
    "\n",
    "np_sample(np.array([50, 3, 1, 7, 20]), 5)"
   ]
  },
  {
   "cell_type": "code",
   "execution_count": 18,
   "metadata": {},
   "outputs": [
    {
     "data": {
      "text/plain": [
       "Ttest_indResult(statistic=0.31046021028253307, pvalue=0.7641453232978952)"
      ]
     },
     "execution_count": 18,
     "metadata": {},
     "output_type": "execute_result"
    }
   ],
   "source": [
    "from scipy.stats import ttest_ind\n",
    "\n",
    "a = sample([50, 3, 1, 7, 20], 5)\n",
    "b = np_sample(np.array([50, 3, 1, 7, 20]), 5)\n",
    "\n",
    "ttest_ind(a, b)"
   ]
  },
  {
   "cell_type": "markdown",
   "metadata": {},
   "source": [
    "# Задание 2.16 (5 баллов)\n",
    "\n",
    "Есть следующий алгоритм \"случайного блуждания\""
   ]
  },
  {
   "cell_type": "code",
   "execution_count": 19,
   "metadata": {},
   "outputs": [
    {
     "data": {
      "text/plain": [
       "2117"
      ]
     },
     "execution_count": 19,
     "metadata": {},
     "output_type": "execute_result"
    }
   ],
   "source": [
    "import random \n",
    "\n",
    "def walk(n: int):\n",
    "    cur_position = 0\n",
    "    for i in range(n):\n",
    "        cur_position += random.choice([-3, -1, 0, 2, 3])\n",
    "\n",
    "    return cur_position\n",
    "\n",
    "walk(10_000)"
   ]
  },
  {
   "cell_type": "markdown",
   "metadata": {},
   "source": [
    "Реализуйте более эффективную версию с помощью `numpy`, сравните производительность (используя, например, magic `timeit`). Воспользовавшись [kdeplot()](https://seaborn.pydata.org/generated/seaborn.kdeplot.html) или аналогами, постройте график распределения значений `walk(10_000)` на каком-то разумном запусков. "
   ]
  },
  {
   "cell_type": "code",
   "execution_count": 20,
   "metadata": {},
   "outputs": [
    {
     "data": {
      "text/plain": [
       "80"
      ]
     },
     "execution_count": 20,
     "metadata": {},
     "output_type": "execute_result"
    }
   ],
   "source": [
    "def np_walk(n: int):\n",
    "    return np.random.randint(-3, 4, n).sum()\n",
    "\n",
    "np_walk(10_000)"
   ]
  },
  {
   "cell_type": "code",
   "execution_count": 21,
   "metadata": {},
   "outputs": [
    {
     "name": "stdout",
     "output_type": "stream",
     "text": [
      "2.59 ms ± 38.4 µs per loop (mean ± std. dev. of 7 runs, 100 loops each)\n",
      "41.3 µs ± 497 ns per loop (mean ± std. dev. of 7 runs, 10,000 loops each)\n"
     ]
    }
   ],
   "source": [
    "%timeit walk(10_000)\n",
    "%timeit np_walk(10_000)"
   ]
  },
  {
   "cell_type": "code",
   "execution_count": 23,
   "metadata": {},
   "outputs": [
    {
     "data": {
      "text/plain": [
       "<AxesSubplot: ylabel='Density'>"
      ]
     },
     "execution_count": 23,
     "metadata": {},
     "output_type": "execute_result"
    },
    {
     "data": {
      "image/png": "[encoded data removed]",
      "text/plain": [
       "<Figure size 640x480 with 1 Axes>"
      ]
     },
     "metadata": {},
     "output_type": "display_data"
    }
   ],
   "source": [
    "n = 300\n",
    "\n",
    "res_np_walk = np.zeros(n)\n",
    "\n",
    "for i in range(n):\n",
    "    res_np_walk[i] = np_walk(10_000)\n",
    "\n",
    "sns.kdeplot(data=res_np_walk)"
   ]
  },
  {
   "cell_type": "markdown",
   "metadata": {},
   "source": [
    "# Задание 2.17 (5 баллов)\n",
    "\n",
    "Имеется функция, которая проделывает достаточно странные манипуляции с массивом `numpy`"
   ]
  },
  {
   "cell_type": "code",
   "execution_count": 24,
   "metadata": {},
   "outputs": [],
   "source": [
    "a = np.random.random((10000, 10000))"
   ]
  },
  {
   "cell_type": "code",
   "execution_count": 25,
   "metadata": {},
   "outputs": [
    {
     "data": {
      "text/plain": [
       "1.1156308458419302"
      ]
     },
     "execution_count": 25,
     "metadata": {},
     "output_type": "execute_result"
    }
   ],
   "source": [
    "import numpy.typing as npt\n",
    "\n",
    "def strange_conv(a: npt.NDArray[np.float64]) -> np.float64:\n",
    "    x = a.shape[0]\n",
    "    y = a.shape[1]\n",
    "\n",
    "    t = 1.\n",
    "    for y in range(y - 5):\n",
    "        for x in range(x - 3):\n",
    "            c = 1.5 * a[y+1, x+2] - a[y+5, x+3] * a[y, x] + 0.2 * a[y+4, x]\n",
    "            t = 0.2 * t + 0.8 * c\n",
    "\n",
    "    return t\n",
    "\n",
    "strange_conv(a)\n"
   ]
  },
  {
   "cell_type": "markdown",
   "metadata": {},
   "source": [
    "Оптимизируйте данную функцию с помощью (2 на выбор):\n",
    "- [Numba](https://numba.pydata.org)\n",
    "- `Cython` (+5 баллов)\n",
    "- [Taichi](https://github.com/taichi-dev/taichi) (+5 баллов)\n",
    "- `Pythran `[[1]](https://pythran.readthedocs.io/en/latest/), [[2]](https://serge-sans-paille.github.io/pythran-stories/pythran-tutorial.html) (+2 балла)\n",
    "\n",
    "Сравните производительность."
   ]
  },
  {
   "cell_type": "markdown",
   "metadata": {},
   "source": [
    "- Numba:"
   ]
  },
  {
   "cell_type": "code",
   "execution_count": 26,
   "metadata": {},
   "outputs": [
    {
     "data": {
      "text/plain": [
       "1.1156308458419302"
      ]
     },
     "execution_count": 26,
     "metadata": {},
     "output_type": "execute_result"
    }
   ],
   "source": [
    "import numba\n",
    "\n",
    "strange_conv_numba = numba.jit(strange_conv)\n",
    "strange_conv_numba(a)"
   ]
  },
  {
   "cell_type": "markdown",
   "metadata": {},
   "source": [
    "- Cython"
   ]
  },
  {
   "cell_type": "code",
   "execution_count": 27,
   "metadata": {},
   "outputs": [],
   "source": [
    "import cython\n",
    "\n",
    "%load_ext cython"
   ]
  },
  {
   "cell_type": "code",
   "execution_count": 28,
   "metadata": {},
   "outputs": [],
   "source": [
    "%%cython\n",
    "\n",
    "cimport numpy\n",
    "\n",
    "def strange_conv_cython(numpy.ndarray[\"double\", ndim=2] a):\n",
    "    cdef int x = a.shape[0]\n",
    "    cdef int y = a.shape[1]\n",
    "\n",
    "    cdef double t = 1.0\n",
    "    cdef double c\n",
    "    for y in range(y - 5):\n",
    "        for x in range(x - 3):\n",
    "            c = 1.5 * a[y + 1, x + 2] - a[y + 5, x + 3] * a[y, x] + 0.2 * a[y + 4, x]\n",
    "            t = 0.2 * t + 0.8 * c\n",
    "\n",
    "    return t"
   ]
  },
  {
   "cell_type": "code",
   "execution_count": 29,
   "metadata": {},
   "outputs": [
    {
     "data": {
      "text/plain": [
       "1.1156308458419302"
      ]
     },
     "execution_count": 29,
     "metadata": {},
     "output_type": "execute_result"
    }
   ],
   "source": [
    "strange_conv_cython(a)"
   ]
  },
  {
   "cell_type": "markdown",
   "metadata": {},
   "source": [
    "- Taichi"
   ]
  },
  {
   "cell_type": "code",
   "execution_count": 30,
   "metadata": {},
   "outputs": [
    {
     "name": "stdout",
     "output_type": "stream",
     "text": [
      "[Taichi] version 1.3.0, llvm 15.0.1, commit 0f25b95e, win, python 3.10.8\n",
      "[Taichi] Starting on arch=x64\n"
     ]
    },
    {
     "data": {
      "text/plain": [
       "0.4217783510684967"
      ]
     },
     "execution_count": 30,
     "metadata": {},
     "output_type": "execute_result"
    }
   ],
   "source": [
    "import taichi as ti\n",
    "\n",
    "ti.init(arch=ti.cpu)\n",
    "\n",
    "@ti.kernel\n",
    "def strange_conv_taichi(a: ti.types.ndarray()) -> ti.f64:\n",
    "    _x = a.shape[0]\n",
    "    _y = a.shape[1]\n",
    "\n",
    "    t = 1.\n",
    "    for y in range(_y - 5):\n",
    "        for x in range(_x - 4 * (y + 1) + 1):\n",
    "            c = 1.5 * a[y + 1, x + 2] - a[y + 5, x + 3] * a[y, x] + 0.2 * a[y + 4, x]\n",
    "            t = 0.2 * t + 0.8 * c\n",
    "\n",
    "    return t\n",
    "\n",
    "strange_conv_taichi(a)"
   ]
  },
  {
   "cell_type": "markdown",
   "metadata": {},
   "source": [
    "- Pythran"
   ]
  },
  {
   "cell_type": "code",
   "execution_count": 31,
   "metadata": {},
   "outputs": [],
   "source": [
    "import pythran\n",
    "\n",
    "%load_ext pythran.magic"
   ]
  },
  {
   "cell_type": "code",
   "execution_count": null,
   "metadata": {},
   "outputs": [],
   "source": [
    "%%pythran\n",
    "#pythran export strange_conv_pythran(float64[:,:])\n",
    "def strange_conv_pythran(a):\n",
    "    x = a.shape[0]\n",
    "    y = a.shape[1]\n",
    "\n",
    "    t = 1.\n",
    "    for y in range(y - 5):\n",
    "        for x in range(x - 3):\n",
    "            c = 1.5 * a[y + 1, x + 2] - a[y + 5, x + 3] * a[y, x] + 0.2 * a[y + 4, x]\n",
    "            t = 0.2 * t + 0.8 * c\n",
    "\n",
    "    return t"
   ]
  },
  {
   "cell_type": "code",
   "execution_count": null,
   "metadata": {},
   "outputs": [],
   "source": [
    "strange_conv_pythran(a)"
   ]
  },
  {
   "cell_type": "markdown",
   "metadata": {},
   "source": [
    "- Сравнение производительности"
   ]
  },
  {
   "cell_type": "code",
   "execution_count": 34,
   "metadata": {},
   "outputs": [
    {
     "name": "stdout",
     "output_type": "stream",
     "text": [
      "10.5 s ± 3.91 s per loop (mean ± std. dev. of 7 runs, 1 loop each)\n"
     ]
    }
   ],
   "source": [
    "%timeit strange_conv(a)"
   ]
  },
  {
   "cell_type": "code",
   "execution_count": 35,
   "metadata": {},
   "outputs": [
    {
     "name": "stdout",
     "output_type": "stream",
     "text": [
      "21.2 ms ± 197 µs per loop (mean ± std. dev. of 7 runs, 10 loops each)\n"
     ]
    }
   ],
   "source": [
    "%timeit strange_conv_numba(a)"
   ]
  },
  {
   "cell_type": "code",
   "execution_count": 36,
   "metadata": {},
   "outputs": [
    {
     "name": "stdout",
     "output_type": "stream",
     "text": [
      "42.6 ms ± 1.24 ms per loop (mean ± std. dev. of 7 runs, 10 loops each)\n"
     ]
    }
   ],
   "source": [
    "%timeit strange_conv_cython(a)"
   ]
  }
 ],
 "metadata": {
  "kernelspec": {
   "display_name": "Python 3.10.8 ('venv': venv)",
   "language": "python",
   "name": "python3"
  },
  "language_info": {
   "codemirror_mode": {
    "name": "ipython",
    "version": 3
   },
   "file_extension": ".py",
   "mimetype": "text/x-python",
   "name": "python",
   "nbconvert_exporter": "python",
   "pygments_lexer": "ipython3",
   "version": "3.10.8"
  },
  "orig_nbformat": 4,
  "vscode": {
   "interpreter": {
    "hash": "1e0c6d25a5ac0828a9c582b756581770c1dd73089406764c05bae2368d1fc9b3"
   }
  }
 },
 "nbformat": 4,
 "nbformat_minor": 2
}
