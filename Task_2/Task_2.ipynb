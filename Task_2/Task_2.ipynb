{
 "cells": [
  {
   "cell_type": "markdown",
   "metadata": {},
   "source": [
    "# Задание 2.\n",
    "\n",
    "**NB. Все упражнения ниже нужно делать без использования циклов Python в явном (`while`, `for`) и неявном виде (list comprehension, `map`, `reduce` и пр)**\n",
    "\n",
    "Задания по манипуляциям с массивами чаще всего решаются в одно/два выражения. "
   ]
  },
  {
   "cell_type": "code",
   "execution_count": 1,
   "metadata": {},
   "outputs": [
    {
     "data": {
      "text/plain": [
       "array([[24, 23, 22, ...,  6,  6, 10],\n",
       "       [81, 41, 56, ..., 81, 96, 75],\n",
       "       [50, 91, 87, ..., 16,  6, 41],\n",
       "       ...,\n",
       "       [86, 11, 23, ..., 43, 89, 78],\n",
       "       [18, 54, 54, ...,  1, 98, 87],\n",
       "       [80, 53, 44, ..., 61, 96, 61]])"
      ]
     },
     "execution_count": 1,
     "metadata": {},
     "output_type": "execute_result"
    }
   ],
   "source": [
    "%matplotlib inline\n",
    "\n",
    "import numpy as np\n",
    "import matplotlib.pyplot as plt\n",
    "import seaborn as sns\n",
    "sns.set_theme()\n",
    "\n",
    "A = np.random.randint(0, 100, size=(200, 50))\n",
    "A"
   ]
  },
  {
   "cell_type": "markdown",
   "metadata": {},
   "source": [
    "# Задание 2.1 (2 балла)\n",
    "\n",
    "Сгенерируйте новый массив, в котором столбцы массива `A` переставлены в случайном порядке"
   ]
  },
  {
   "cell_type": "code",
   "execution_count": 2,
   "metadata": {},
   "outputs": [
    {
     "data": {
      "text/plain": [
       "array([[30, 22, 65, ..., 54, 23, 12],\n",
       "       [84, 80,  9, ...,  6, 58, 51],\n",
       "       [ 0, 94,  0, ..., 34, 93, 47],\n",
       "       ...,\n",
       "       [ 9, 73, 99, ..., 44, 50, 42],\n",
       "       [ 1, 31, 41, ..., 70, 53, 87],\n",
       "       [77, 25, 95, ..., 55, 62, 32]])"
      ]
     },
     "execution_count": 2,
     "metadata": {},
     "output_type": "execute_result"
    }
   ],
   "source": [
    "rng = np.random.default_rng()\n",
    "\n",
    "rng.shuffle(A, axis=1)\n",
    "A"
   ]
  },
  {
   "cell_type": "markdown",
   "metadata": {},
   "source": [
    "# Задание 2.2 (5 баллов)\n",
    "\n",
    "Сгенерируйте новый массив, который содержит только те строки массива `A`, в которых: \n",
    "- сумма элементов по четным столбцам (индексы $0, 2, \\ldots$) больше среднего значения (по всему массиву) суммы элементов по нечетным столбцам (индексы $1, 3, \\ldots$) "
   ]
  },
  {
   "cell_type": "code",
   "execution_count": 3,
   "metadata": {},
   "outputs": [
    {
     "data": {
      "text/plain": [
       "array([[84, 80,  9, ...,  6, 58, 51],\n",
       "       [61, 41, 67, ..., 52, 81, 66],\n",
       "       [15, 62, 60, ..., 91, 44, 20],\n",
       "       ...,\n",
       "       [ 9, 73, 99, ..., 44, 50, 42],\n",
       "       [ 1, 31, 41, ..., 70, 53, 87],\n",
       "       [77, 25, 95, ..., 55, 62, 32]])"
      ]
     },
     "execution_count": 3,
     "metadata": {},
     "output_type": "execute_result"
    }
   ],
   "source": [
    "A[A[:, ::2].sum(axis=1) > A[:, 1::2].sum(axis=1).mean()]"
   ]
  },
  {
   "cell_type": "markdown",
   "metadata": {},
   "source": [
    "# Задача 2.3 (3 балла)\n",
    "\n",
    "Найдите индекс строки массива `A`, в которой разница между максимальным и минимальным элементом максимальна"
   ]
  },
  {
   "cell_type": "code",
   "execution_count": 4,
   "metadata": {},
   "outputs": [
    {
     "data": {
      "text/plain": [
       "12"
      ]
     },
     "execution_count": 4,
     "metadata": {},
     "output_type": "execute_result"
    }
   ],
   "source": [
    "np.argmax(A.max(axis=1) - A.min(axis=1))"
   ]
  },
  {
   "cell_type": "markdown",
   "metadata": {},
   "source": [
    "# Задание 2.4 (7 баллов)\n",
    "\n",
    "Сгенерируйте массив той же размерности, что и `A`, но в котором каждый элемент заменен на его порядковый номер (начиная с 1) в отсортированном по возрастанию массиве из элементов `A`\n",
    "\n",
    "Если `A` выглядит так:\n",
    "$$\n",
    "\\begin{pmatrix}\n",
    "12 & 14\\\\\n",
    "1 & 2\n",
    "\\end{pmatrix}\n",
    "$$\n",
    "то результат должен быть\n",
    "$$\n",
    "\\begin{pmatrix}\n",
    "3 & 4\\\\\n",
    "1 & 2\n",
    "\\end{pmatrix}\n",
    "$$\n",
    "\n",
    "*Tip: рассмотрите возможность неоднократного применения [argsort()](https://numpy.org/doc/stable/reference/generated/numpy.ndarray.argsort.html)*"
   ]
  },
  {
   "cell_type": "code",
   "execution_count": 5,
   "metadata": {},
   "outputs": [
    {
     "data": {
      "text/plain": [
       "array([[3086, 2281, 6645, ..., 5478, 2345, 1327],\n",
       "       [8501, 8029,  996, ...,  681, 5891, 5198],\n",
       "       [   3, 9447,   29, ..., 3490, 9330, 4767],\n",
       "       ...,\n",
       "       [ 973, 7356, 9942, ..., 4447, 5126, 4312],\n",
       "       [ 163, 3190, 4211, ..., 7121, 5406, 8840],\n",
       "       [7819, 2615, 9558, ..., 5555, 6309, 3303]], dtype=int64)"
      ]
     },
     "execution_count": 5,
     "metadata": {},
     "output_type": "execute_result"
    }
   ],
   "source": [
    "A.argsort(axis=None).argsort().reshape(A.shape) + 1"
   ]
  },
  {
   "cell_type": "markdown",
   "metadata": {},
   "source": [
    "# Задание 2.5 (2 балла)\n",
    "\n",
    "Примените $\\min-\\max$ - нормализацию к строкам массива `A`. То есть нужно получить новый массивы, в каждой строке которого максимальный элементы равен $1$, минимальный - $0$. "
   ]
  },
  {
   "cell_type": "code",
   "execution_count": 6,
   "metadata": {},
   "outputs": [
    {
     "data": {
      "text/plain": [
       "array([[0.27956989, 0.19354839, 0.65591398, ..., 0.53763441, 0.20430108,\n",
       "        0.08602151],\n",
       "       [0.87368421, 0.83157895, 0.08421053, ..., 0.05263158, 0.6       ,\n",
       "        0.52631579],\n",
       "       [0.        , 0.95918367, 0.        , ..., 0.34693878, 0.94897959,\n",
       "        0.47959184],\n",
       "       ...,\n",
       "       [0.01098901, 0.71428571, 1.        , ..., 0.3956044 , 0.46153846,\n",
       "        0.37362637],\n",
       "       [0.01010101, 0.31313131, 0.41414141, ..., 0.70707071, 0.53535354,\n",
       "        0.87878788],\n",
       "       [0.77419355, 0.21505376, 0.96774194, ..., 0.53763441, 0.61290323,\n",
       "        0.29032258]])"
      ]
     },
     "execution_count": 6,
     "metadata": {},
     "output_type": "execute_result"
    }
   ],
   "source": [
    "(A - np.vstack(A.min(axis=1))) / np.vstack(A.max(axis=1) - A.min(axis=1))"
   ]
  },
  {
   "cell_type": "markdown",
   "metadata": {},
   "source": [
    "# Задание 2.6 (2 балла)\n",
    "\n",
    "Сгенерируйте новый трехмерный массив, размерности $10 \\times 200 \\times 50$. Подмассивы по нулевой оси должны состоять из элементов `A`, умноженных на $1 - 10$ соответственно"
   ]
  },
  {
   "cell_type": "code",
   "execution_count": 7,
   "metadata": {},
   "outputs": [
    {
     "data": {
      "text/plain": [
       "array([[[ 30,  22,  65, ...,  54,  23,  12],\n",
       "        [ 84,  80,   9, ...,   6,  58,  51],\n",
       "        [  0,  94,   0, ...,  34,  93,  47],\n",
       "        ...,\n",
       "        [  9,  73,  99, ...,  44,  50,  42],\n",
       "        [  1,  31,  41, ...,  70,  53,  87],\n",
       "        [ 77,  25,  95, ...,  55,  62,  32]],\n",
       "\n",
       "       [[ 60,  44, 130, ..., 108,  46,  24],\n",
       "        [168, 160,  18, ...,  12, 116, 102],\n",
       "        [  0, 188,   0, ...,  68, 186,  94],\n",
       "        ...,\n",
       "        [ 18, 146, 198, ...,  88, 100,  84],\n",
       "        [  2,  62,  82, ..., 140, 106, 174],\n",
       "        [154,  50, 190, ..., 110, 124,  64]],\n",
       "\n",
       "       [[ 90,  66, 195, ..., 162,  69,  36],\n",
       "        [252, 240,  27, ...,  18, 174, 153],\n",
       "        [  0, 282,   0, ..., 102, 279, 141],\n",
       "        ...,\n",
       "        [ 27, 219, 297, ..., 132, 150, 126],\n",
       "        [  3,  93, 123, ..., 210, 159, 261],\n",
       "        [231,  75, 285, ..., 165, 186,  96]],\n",
       "\n",
       "       ...,\n",
       "\n",
       "       [[240, 176, 520, ..., 432, 184,  96],\n",
       "        [672, 640,  72, ...,  48, 464, 408],\n",
       "        [  0, 752,   0, ..., 272, 744, 376],\n",
       "        ...,\n",
       "        [ 72, 584, 792, ..., 352, 400, 336],\n",
       "        [  8, 248, 328, ..., 560, 424, 696],\n",
       "        [616, 200, 760, ..., 440, 496, 256]],\n",
       "\n",
       "       [[270, 198, 585, ..., 486, 207, 108],\n",
       "        [756, 720,  81, ...,  54, 522, 459],\n",
       "        [  0, 846,   0, ..., 306, 837, 423],\n",
       "        ...,\n",
       "        [ 81, 657, 891, ..., 396, 450, 378],\n",
       "        [  9, 279, 369, ..., 630, 477, 783],\n",
       "        [693, 225, 855, ..., 495, 558, 288]],\n",
       "\n",
       "       [[300, 220, 650, ..., 540, 230, 120],\n",
       "        [840, 800,  90, ...,  60, 580, 510],\n",
       "        [  0, 940,   0, ..., 340, 930, 470],\n",
       "        ...,\n",
       "        [ 90, 730, 990, ..., 440, 500, 420],\n",
       "        [ 10, 310, 410, ..., 700, 530, 870],\n",
       "        [770, 250, 950, ..., 550, 620, 320]]])"
      ]
     },
     "execution_count": 7,
     "metadata": {},
     "output_type": "execute_result"
    }
   ],
   "source": [
    "A * np.arange(1, 11).reshape(10, 1, 1)"
   ]
  },
  {
   "cell_type": "markdown",
   "metadata": {},
   "source": [
    "# Задание 2.7 (2 балла)\n",
    "\n",
    "Создайте новый массив, такой же размерности, как и `A`, в котором сначала сгруппированы четные столбцы `A`, потом  нечетные. Используйте [np.concat()](https://numpy.org/doc/stable/reference/generated/numpy.concatenate.html) "
   ]
  },
  {
   "cell_type": "code",
   "execution_count": 8,
   "metadata": {},
   "outputs": [
    {
     "data": {
      "text/plain": [
       "array([[30, 65, 72, ..., 51, 54, 12],\n",
       "       [84,  9, 17, ..., 24,  6, 51],\n",
       "       [ 0,  0,  3, ..., 31, 34, 47],\n",
       "       ...,\n",
       "       [ 9, 99, 78, ..., 42, 44, 42],\n",
       "       [ 1, 41, 98, ..., 44, 70, 87],\n",
       "       [77, 95, 88, ..., 27, 55, 32]])"
      ]
     },
     "execution_count": 8,
     "metadata": {},
     "output_type": "execute_result"
    }
   ],
   "source": [
    "np.concatenate((A[:, ::2], A[:, 1::2]), axis=1)"
   ]
  },
  {
   "cell_type": "markdown",
   "metadata": {},
   "source": [
    "# Задание 2.8 (2 балла)\n",
    "\n",
    "Посчитайте количество строк массива `A`, в который все элементы больше 5. Используйте [np.all()](https://numpy.org/doc/stable/reference/generated/numpy.all.html) "
   ]
  },
  {
   "cell_type": "code",
   "execution_count": 9,
   "metadata": {},
   "outputs": [
    {
     "data": {
      "text/plain": [
       "12"
      ]
     },
     "execution_count": 9,
     "metadata": {},
     "output_type": "execute_result"
    }
   ],
   "source": [
    "np.count_nonzero(np.all(A > 5, axis=1))"
   ]
  },
  {
   "cell_type": "markdown",
   "metadata": {},
   "source": [
    "# Задание 2.9 (2 балла)\n",
    "\n",
    "Поделите массив `A` горизонтально на 10 частей и создайте новый массив размерности $20 \\times 50$, который состоит из средних этих частей. Используйте [np.split()](https://numpy.org/doc/stable/reference/generated/numpy.split.html)"
   ]
  },
  {
   "cell_type": "code",
   "execution_count": 10,
   "metadata": {},
   "outputs": [
    {
     "data": {
      "text/plain": [
       "array([[62.5, 57.3, 44.3, 47.6, 41. , 36.1, 58.2, 53.5, 56.4, 57.3, 33.8,\n",
       "        42.4, 53.7, 44.8, 54.9, 63. , 56.9, 41.4, 74.3, 53.1, 55.3, 63.4,\n",
       "        40.9, 44.8, 47.5, 49.5, 49.4, 47.2, 42.8, 43.4, 37.2, 45.7, 47.9,\n",
       "        49.9, 46.8, 53.4, 41.8, 39.7, 40.9, 53.3, 44.2, 44. , 49. , 72. ,\n",
       "        37.3, 30.5, 41.3, 51.9, 39. , 48.4],\n",
       "       [52.4, 65.1, 51.4, 32.5, 43.5, 50.9, 54.5, 52.4, 42.8, 55.3, 50.2,\n",
       "        51.5, 42. , 51.7, 44.7, 50.7, 61.3, 63.9, 29.4, 56.8, 34.8, 36. ,\n",
       "        54.1, 46.1, 58.8, 54.2, 43.8, 46.2, 40.4, 41.3, 43.7, 45.4, 50.1,\n",
       "        56.4, 59.4, 35. , 45.2, 72.1, 46.2, 43.9, 41.2, 69.2, 39.5, 48.7,\n",
       "        46. , 45.6, 54.2, 46.5, 48. , 53.1],\n",
       "       [38.9, 51.8, 42.7, 45.7, 45.1, 42. , 40.2, 40.3, 42.2, 48.1, 43.1,\n",
       "        44.5, 62.7, 47. , 45.7, 48.5, 61.1, 47. , 44.2, 66.6, 53.5, 50.8,\n",
       "        46.7, 55. , 39.7, 39.2, 31. , 65.3, 54.5, 54.9, 51.4, 52.7, 52. ,\n",
       "        53.5, 30.3, 48.2, 49. , 49.4, 38.3, 31.2, 49.1, 56.5, 57.7, 43.2,\n",
       "        52.5, 34. , 48.8, 58.1, 54.4, 61.8],\n",
       "       [48.3, 52.2, 57.7, 48.1, 40.2, 46.5, 49.5, 53.2, 54.2, 32.4, 69.2,\n",
       "        52.4, 51.6, 51.7, 59.3, 47.2, 44.4, 39.5, 50.9, 40. , 47.7, 51.7,\n",
       "        33.4, 43.3, 54. , 55. , 36.2, 40. , 49.4, 53. , 39.1, 63. , 49.3,\n",
       "        58.3, 55.9, 48.1, 53.5, 55.6, 42.4, 48.4, 41.1, 60.9, 46.1, 50.8,\n",
       "        60.1, 49.9, 39.4, 51.3, 46.5, 55. ],\n",
       "       [46.7, 41.2, 37.2, 46.3, 67.5, 50.9, 47. , 49.5, 37.8, 39.2, 50.5,\n",
       "        50.8, 37.5, 52.6, 55.7, 57.7, 36.5, 54.2, 53.6, 38.5, 48.9, 31.6,\n",
       "        51.8, 45.8, 55.8, 38.6, 45.1, 39.4, 43. , 37.4, 44.8, 52.6, 49.7,\n",
       "        46. , 58.6, 47.2, 54.1, 56.9, 67. , 51.2, 54.6, 52.4, 53.8, 46.7,\n",
       "        43.6, 52.9, 36.6, 56.7, 68.9, 52.3],\n",
       "       [47.9, 38. , 56.2, 49.8, 56.1, 57.5, 44.6, 47.3, 28. , 76. , 53.1,\n",
       "        45.9, 54.4, 48.6, 26.6, 41.1, 57.6, 34.2, 48.6, 49. , 53.8, 38.1,\n",
       "        60.6, 43.9, 29.9, 50.3, 44.6, 40.3, 68.1, 51.1, 42.3, 54.6, 62.8,\n",
       "        48.6, 57.4, 54.6, 37.9, 62.1, 54.5, 39.7, 47.1, 41.5, 54.1, 50.6,\n",
       "        58.6, 59.4, 37.2, 42. , 45.1, 61.1],\n",
       "       [60.1, 41.7, 49.2, 56.3, 39.1, 61.1, 47.1, 45.9, 49.3, 49.7, 68.7,\n",
       "        54.8, 35.8, 49.1, 48.3, 45.7, 43.9, 41. , 42. , 57.7, 40.1, 50.8,\n",
       "        48.1, 52. , 51.7, 57.7, 54.3, 60.5, 48.3, 43.4, 40.1, 49.1, 50.3,\n",
       "        57.1, 50.7, 44.4, 42.5, 52.9, 46.2, 45.7, 45.1, 56.5, 50.8, 55.2,\n",
       "        53.8, 61.1, 56.2, 55.2, 53.2, 51.6],\n",
       "       [64. , 72.3, 39.9, 66.1, 44.4, 36. , 51.2, 50.2, 45. , 61.9, 36.8,\n",
       "        65.9, 41.4, 40.4, 61.7, 58.6, 62. , 38.1, 47.9, 41.9, 49.1, 34.6,\n",
       "        42.9, 45.2, 47.5, 32.9, 66.2, 43.1, 42. , 41. , 60.8, 61.1, 49.9,\n",
       "        42.9, 48. , 46. , 50.2, 57.8, 67.4, 50.8, 50. , 41.1, 43.7, 56.9,\n",
       "        42.2, 43.3, 42.5, 51.4, 48.9, 47.9],\n",
       "       [62. , 47.2, 42.8, 62.9, 54.3, 42.7, 40.8, 41.8, 58.7, 38.3, 45.7,\n",
       "        51.3, 54.1, 47.7, 43.9, 49.3, 43.8, 52. , 51.5, 45.7, 37.2, 55.8,\n",
       "        53.4, 49.9, 37.3, 38. , 49.2, 43.9, 67. , 53.6, 49.8, 55.1, 42.8,\n",
       "        56.7, 47.7, 64.9, 55.3, 35.8, 55.2, 42.5, 53.3, 49.8, 55.2, 45.3,\n",
       "        39.3, 49.8, 53.8, 59.7, 46.7, 47.6],\n",
       "       [49.2, 57. , 46.8, 55.4, 56.8, 64.2, 37.3, 53.9, 41.4, 36.8, 37.5,\n",
       "        38.8, 59.5, 44.5, 41.7, 56.5, 40.1, 35.8, 54.6, 42.8, 47.6, 49.4,\n",
       "        56.6, 48.3, 38.1, 72.7, 39.3, 49.5, 40.5, 44.7, 35.4, 63.1, 53.8,\n",
       "        46.5, 47.4, 36.9, 46.4, 41. , 47.9, 45.3, 58.8, 40.6, 55.6, 26.6,\n",
       "        70.9, 61.9, 42.9, 45.7, 49.9, 43.2],\n",
       "       [51. , 34.1, 57.5, 57.8, 42.8, 61.6, 48.2, 54.1, 53. , 47.8, 66.6,\n",
       "        48.2, 44.9, 42.5, 39.6, 41.7, 55.2, 64.9, 37.2, 49.6, 51.7, 58.9,\n",
       "        59.3, 61.1, 47. , 51.4, 46. , 65.6, 27.3, 44.4, 38.6, 33.3, 56.3,\n",
       "        36.5, 36.9, 58.9, 59.5, 61.6, 58.9, 60.4, 54.8, 45.6, 53.3, 49.7,\n",
       "        25.9, 52.5, 64.6, 45.3, 32.9, 56.4],\n",
       "       [28.9, 56. , 49.8, 39.8, 57.5, 47.9, 33.3, 60.2, 32. , 48.2, 43.3,\n",
       "        34.4, 64.9, 50.8, 35.6, 44.5, 59.2, 42.7, 39.8, 46.7, 65.9, 46.1,\n",
       "        40.6, 38. , 56.4, 45.8, 54.3, 56.1, 58.3, 41.2, 39.2, 43.4, 54. ,\n",
       "        54.3, 30.6, 61.3, 34.2, 54.1, 46. , 46.9, 59.3, 50.3, 55.3, 58.9,\n",
       "        48.7, 39.4, 48.9, 55.7, 53.7, 43.1],\n",
       "       [68. , 39.9, 50.7, 45.1, 49.6, 56.8, 49.5, 48.7, 63.8, 52.6, 49.7,\n",
       "        48.4, 56.5, 59.9, 73.9, 35.8, 62.2, 60.5, 67.5, 35.6, 51.4, 36.6,\n",
       "        44.7, 34.4, 48.3, 59.9, 70. , 37. , 51.2, 43.1, 45.2, 38.9, 45.1,\n",
       "        57.1, 44.5, 52.9, 60.1, 46.5, 51.3, 56.4, 54.8, 37.8, 57.1, 59.1,\n",
       "        53.3, 46.3, 38.7, 31.5, 33.5, 22.6],\n",
       "       [58.6, 40.8, 48.6, 52. , 36.6, 71.7, 58. , 55.2, 28.9, 55.2, 45.4,\n",
       "        55.5, 62.7, 50.3, 50.1, 37.8, 36.1, 46.5, 34.5, 63.8, 53.7, 38.5,\n",
       "        48.1, 39.2, 47.3, 37.4, 44.1, 40. , 40.3, 30.8, 41.6, 59.8, 44.4,\n",
       "        28.8, 42. , 27.5, 58. , 41.1, 66. , 40.4, 65.8, 49.1, 50.7, 45.6,\n",
       "        45.4, 46.1, 28.8, 51.6, 54.4, 44.9],\n",
       "       [41.1, 63.4, 52.1, 36.8, 59.5, 58.1, 41.6, 41.4, 37.6, 41.5, 55.8,\n",
       "        55.4, 63.6, 45.2, 49.6, 41.8, 47.2, 56.7, 41.4, 43. , 62.4, 45.1,\n",
       "        34.5, 42.9, 56.4, 59. , 41.9, 47.5, 44.6, 56.1, 38.4, 55.5, 36.9,\n",
       "        43.6, 63. , 47.4, 51.7, 58.5, 61.5, 37. , 55.3, 39.3, 58.5, 35.1,\n",
       "        38.6, 45.1, 43.3, 33.1, 47.7, 65.5],\n",
       "       [52.8, 51.5, 36.1, 46.4, 57.6, 34. , 65.7, 47.4, 59.1, 68.6, 37.9,\n",
       "        52.9, 42.2, 49.3, 47.6, 46.7, 51.2, 54. , 31.9, 57.3, 65.2, 40.8,\n",
       "        61.5, 55.5, 54.2, 42.2, 52.6, 41.7, 50.5, 53.5, 60.5, 42.1, 38.7,\n",
       "        50.3, 37.3, 52.2, 41.5, 46.1, 50.4, 52. , 51.4, 47. , 52.1, 48.5,\n",
       "        56.4, 51.9, 45. , 59.2, 53.2, 56. ],\n",
       "       [60.3, 39.1, 48.3, 59.6, 54.8, 38.3, 40.1, 47.3, 50.3, 56.3, 54.7,\n",
       "        54.9, 54.4, 44.9, 40.3, 43.8, 51. , 67. , 46.9, 62. , 58.2, 50.1,\n",
       "        54.8, 54.4, 43.2, 39. , 48.4, 46.6, 37.6, 50.5, 51.4, 55.7, 35.9,\n",
       "        50. , 47.1, 57.9, 52.4, 19.1, 54.2, 54.5, 55.6, 41. , 54.3, 53.3,\n",
       "        36.3, 35.3, 48. , 49.6, 41.5, 51.4],\n",
       "       [41. , 52.1, 47.8, 49.1, 49.8, 57.9, 50.4, 57.2, 52. , 51.1, 37.8,\n",
       "        50.9, 48.4, 58.8, 29.8, 61.7, 57.9, 58.9, 32.8, 52.7, 50.1, 56.3,\n",
       "        60.6, 24.9, 64.5, 53.3, 40.5, 65.4, 53.2, 56.2, 51.2, 62.8, 51.4,\n",
       "        66.7, 45.9, 61.5, 42.1, 48.4, 47.7, 53.9, 70.7, 51.4, 51.2, 60.4,\n",
       "        63.6, 36.6, 60.3, 41.6, 52.4, 41.6],\n",
       "       [24.1, 46.1, 45.5, 48. , 55.3, 52.2, 50.3, 27.7, 41.8, 45.3, 48.9,\n",
       "        60.5, 60.5, 56.9, 52.9, 55.4, 45.7, 51.9, 58. , 50. , 36.7, 52.6,\n",
       "        55.9, 59.6, 36. , 35.9, 44.9, 58.1, 52.2, 51.2, 52.1, 63.8, 46.3,\n",
       "        55. , 54.8, 45.9, 59.6, 51.1, 35.2, 51.6, 71.7, 50.4, 66.4, 42.3,\n",
       "        61.4, 43. , 40.4, 52.6, 67.2, 52. ],\n",
       "       [72. , 57.5, 55.7, 55.2, 68.7, 41.3, 43.2, 53.5, 60. , 40.1, 42.7,\n",
       "        63.8, 42.2, 45.1, 51.8, 57.9, 58.1, 51.9, 42.6, 44.2, 58.5, 62.1,\n",
       "        50.5, 66.7, 48.3, 43.1, 40.9, 31.6, 42. , 62.2, 60.4, 62.3, 54.7,\n",
       "        57.5, 39.1, 26.7, 57.5, 53.7, 54.4, 55.3, 36.6, 49.9, 61.8, 55.3,\n",
       "        48. , 32.9, 39. , 44.6, 38.1, 52.1]])"
      ]
     },
     "execution_count": 10,
     "metadata": {},
     "output_type": "execute_result"
    }
   ],
   "source": [
    "np.array(np.split(A, 10)).mean(axis=0)"
   ]
  },
  {
   "cell_type": "markdown",
   "metadata": {},
   "source": [
    "# Задание 2.10 (4 балла)\n",
    "\n",
    "\"Разверните\" массив `A` в одномерный массив. Оставьте в нём только уникальные элементы в том же порядке, в котором они встречаются в массиве. Используйте [np.unique()](https://numpy.org/doc/stable/reference/generated/numpy.unique.html)"
   ]
  },
  {
   "cell_type": "code",
   "execution_count": 11,
   "metadata": {},
   "outputs": [
    {
     "data": {
      "text/plain": [
       "array([30, 22, 65, 72, 19,  8, 57,  6, 74, 10, 67, 54, 12, 73, 48, 81,  4,\n",
       "       24, 83, 63, 23, 91, 78, 61, 70, 33, 51, 52, 11, 34, 97, 32, 89, 93,\n",
       "       20, 37, 84, 80,  9, 56, 17, 86,  1,  2, 75, 27, 71, 82, 16, 41, 96,\n",
       "       35, 38, 66, 21, 26, 87, 36, 58,  0, 94,  3, 25, 90, 47, 55, 43, 49,\n",
       "       85, 50, 28,  5, 98, 14, 69, 60, 53, 31, 46, 68, 76, 88, 42,  7, 44,\n",
       "       15, 13, 64, 77, 18, 79, 40, 95, 92, 99, 62, 45, 29, 59, 39])"
      ]
     },
     "execution_count": 11,
     "metadata": {},
     "output_type": "execute_result"
    }
   ],
   "source": [
    "u, ind = np.unique(A.flatten(), return_index=True)\n",
    "u[np.argsort(ind)]"
   ]
  },
  {
   "cell_type": "markdown",
   "metadata": {},
   "source": [
    "# Задание 2.11 (3 балла)\n",
    "\n",
    "Создайте одномерный массив размерности $200$, в котором каждый элемент - евклидово расстояние между соответствующей строкой `A` и \"средней\" строкой `A`"
   ]
  },
  {
   "cell_type": "code",
   "execution_count": 12,
   "metadata": {},
   "outputs": [
    {
     "data": {
      "text/plain": [
       "array([197.3205403 , 211.37555588, 217.84325931, 191.7882312 ,\n",
       "       207.96787162, 186.02442212, 192.81741525, 205.01652525,\n",
       "       211.51906681, 207.71888606, 192.75890544, 201.6713307 ,\n",
       "       210.61516001, 203.82354041, 227.19219975, 215.8624924 ,\n",
       "       205.61010584, 190.81062765, 211.48031971, 222.13810035,\n",
       "       187.72814287, 208.74315707, 212.19124776, 197.86746985,\n",
       "       212.52060047, 187.01608387, 201.27519873, 210.55333202,\n",
       "       202.93727017, 194.07852953, 196.49785145, 194.02779601,\n",
       "       211.77071475, 170.20653814, 205.84381367, 226.60127013,\n",
       "       188.82466901, 227.16660323, 199.32173897, 193.22899789,\n",
       "       174.07319043, 219.21353887, 213.5743562 , 205.13696796,\n",
       "       216.21164544, 207.35733801, 225.52072105, 195.94490457,\n",
       "       200.2044096 , 193.01009203, 216.70737326, 195.58815308,\n",
       "       208.56268992, 188.15101813, 198.02079594, 219.99660367,\n",
       "       186.45472808, 186.13437518, 197.43291424, 213.10644201,\n",
       "       201.2338829 , 207.24708834, 209.84910204, 191.32228209,\n",
       "       173.35606602, 188.82943527, 201.1922852 , 197.66473035,\n",
       "       215.42835381, 198.68650086, 194.70117007, 217.34697059,\n",
       "       215.33647073, 213.86235205, 207.50863988, 206.53400598,\n",
       "       192.84897102, 201.82699429, 202.54119488, 204.16259605,\n",
       "       199.26699582, 197.24547048, 209.90451549, 200.51116085,\n",
       "       193.99743716, 219.80422113, 203.76320969, 199.17872784,\n",
       "       204.31883326, 184.7572343 , 214.39192062, 173.34031737,\n",
       "       226.74182593, 195.79559654, 205.86683955, 197.31151924,\n",
       "       195.52699462, 192.51191035, 206.70414999, 216.24172961,\n",
       "       210.09013691, 180.4169771 , 205.89605539, 213.08192233,\n",
       "       209.94581593, 202.20023646, 188.61260728, 205.5163634 ,\n",
       "       206.19848599, 212.11495851, 222.0495792 , 224.03715233,\n",
       "       217.0748618 , 218.58782131, 226.53610226, 203.31853242,\n",
       "       172.95807476, 201.18135009, 202.19128474, 194.77265112,\n",
       "       214.07866691, 224.30411415, 216.16839645, 191.17927614,\n",
       "       182.7950372 , 165.3243044 , 169.07934713, 217.1754029 ,\n",
       "       194.22259298, 217.86967578, 207.41676795, 202.0677006 ,\n",
       "       221.59838814, 206.68262052, 185.36479068, 219.65715473,\n",
       "       205.50821304, 203.05079568, 220.5585764 , 202.40833882,\n",
       "       180.81171319, 159.08992936, 169.72482324, 198.4070201 ,\n",
       "       210.50234114, 224.44430406, 197.16545241, 195.43788176,\n",
       "       187.56291111, 202.94993379, 188.98956486, 197.50092563,\n",
       "       206.13834099, 199.68511618, 196.58007433, 205.89773099,\n",
       "       204.0364076 , 204.37988068, 173.0550653 , 214.62426616,\n",
       "       210.90511048, 220.64687993, 204.06296975, 213.38796973,\n",
       "       194.93069441, 185.95608521, 220.31138333, 216.96874343,\n",
       "       198.08285041, 204.19670816, 233.05172307, 219.53274386,\n",
       "       179.65596462, 204.5666777 , 180.56316243, 194.63683008,\n",
       "       188.20020092, 206.16662103, 196.28462911, 219.98123926,\n",
       "       197.6435823 , 212.09079571, 181.50808694, 187.41650308,\n",
       "       199.22651838, 199.55329019, 212.05234171, 215.29049126,\n",
       "       209.54518755, 198.93000182, 218.21511319, 196.56595744,\n",
       "       209.32010325, 201.05557845, 180.36148598, 219.11717328,\n",
       "       212.82959293, 219.59345533, 221.11064114, 204.43584721])"
      ]
     },
     "execution_count": 12,
     "metadata": {},
     "output_type": "execute_result"
    }
   ],
   "source": [
    "mean = A.mean(axis=0)\n",
    "np.sqrt(np.sum((A - mean) ** 2, axis=1))"
   ]
  },
  {
   "cell_type": "markdown",
   "metadata": {},
   "source": [
    "# Задание 2.12 (2 балла)\n",
    "\n",
    "Создайте новый массив, который состоит из элементов `A`, измененных по следующим правилам:\n",
    "- если элемент меньше $50$, то он умножается на $2$\n",
    "- в противном случае он умножается на $3$\n",
    "\n",
    "Используйте [np.where()](https://numpy.org/doc/stable/reference/generated/numpy.where.html)"
   ]
  },
  {
   "cell_type": "code",
   "execution_count": 13,
   "metadata": {},
   "outputs": [
    {
     "data": {
      "text/plain": [
       "array([[ 60,  44, 195, ..., 162,  46,  24],\n",
       "       [252, 240,  18, ...,  12, 174, 153],\n",
       "       [  0, 282,   0, ...,  68, 279,  94],\n",
       "       ...,\n",
       "       [ 18, 219, 297, ...,  88, 150,  84],\n",
       "       [  2,  62,  82, ..., 210, 159, 261],\n",
       "       [231,  50, 285, ..., 165, 186,  64]])"
      ]
     },
     "execution_count": 13,
     "metadata": {},
     "output_type": "execute_result"
    }
   ],
   "source": [
    "np.where(A < 50, A * 2, A * 3)"
   ]
  },
  {
   "cell_type": "markdown",
   "metadata": {},
   "source": [
    "# Задание 2.13 (7 баллов)\n",
    "\n",
    "Разверните массив `A` в одномерный массив. Создайте три новых массива, подсчитав скользящие средние по окнам $3$, $5$, $10$. Найдите сумму этих массивов, выровнив их размерности нулями справа.\n",
    "\n",
    "*Tip: реализуйте функцию, которая считает скользящее среднее. Используйте [np.cumsum()](https://numpy.org/doc/stable/reference/generated/numpy.cumsum.html) или [np.convolve()](https://numpy.org/doc/stable/reference/generated/numpy.convolve.html)*"
   ]
  },
  {
   "cell_type": "code",
   "execution_count": 14,
   "metadata": {},
   "outputs": [
    {
     "data": {
      "text/plain": [
       "array([113.5       , 113.03333333, 125.7       , ..., 103.6       ,\n",
       "        64.66666667,  49.66666667])"
      ]
     },
     "execution_count": 14,
     "metadata": {},
     "output_type": "execute_result"
    }
   ],
   "source": [
    "def moving_average(arr, window):\n",
    "    return np.convolve(arr, np.ones(window), \"valid\") / window\n",
    "\n",
    "(moving_average(A.flatten(), 3) + \n",
    "np.concatenate((moving_average(A.flatten(), 5), np.zeros(2))) + \n",
    "np.concatenate((moving_average(A.flatten(), 10), np.zeros(7))))"
   ]
  },
  {
   "cell_type": "markdown",
   "metadata": {},
   "source": [
    "# Задание 2.14 (8 баллов)\n",
    "\n",
    "Постройте график функции $$f(x) = (5  \\sin(2x) - \\cos^2(x) - 1 + |x^3| - x^2) / (x^2 + 1)$$  \n",
    "\n",
    "и производной от этой функции.  Найдите минимум с помощью `scipy` и обозначьте его на графике. На этой же оси постройте графики скользящего среднего этой функции с окном $1$, $2$, $5$."
   ]
  },
  {
   "cell_type": "code",
   "execution_count": 15,
   "metadata": {},
   "outputs": [
    {
     "data": {
      "image/png": "[encoded data removed]",
      "text/plain": [
       "<Figure size 640x480 with 1 Axes>"
      ]
     },
     "metadata": {},
     "output_type": "display_data"
    }
   ],
   "source": [
    "from scipy.misc import derivative\n",
    "from scipy.optimize import fmin_bfgs\n",
    "\n",
    "f = lambda x: (5 * np.sin(2 * x) - np.cos(x) ** 2 - 1 + np.abs(x ** 3) - x ** 2) / (x ** 2 + 1)\n",
    "\n",
    "x = np.linspace(-7, 7, 400)\n",
    "y = f(x)\n",
    "\n",
    "plt.plot(x, y)\n",
    "plt.plot(x, derivative(f, x, dx=1e-6))\n",
    "\n",
    "min = fmin_bfgs(f, 0, disp=False)\n",
    "plt.scatter(min, f(min))\n",
    "\n",
    "plt.plot(x, moving_average(y, 1))\n",
    "plt.plot(x[1:], moving_average(y, 2))\n",
    "plt.plot(x[2:-2], moving_average(y, 5))\n",
    "\n",
    "plt.show()"
   ]
  },
  {
   "cell_type": "markdown",
   "metadata": {},
   "source": [
    "# Задание 2.15 (10 баллов)\n",
    "\n",
    "Есть следующий алгоритм семплинирования, на вход функции подается вектор из целых положительных чисел и число семплов."
   ]
  },
  {
   "cell_type": "code",
   "execution_count": 16,
   "metadata": {},
   "outputs": [
    {
     "data": {
      "text/plain": [
       "[0, 4, 0, 4, 0]"
      ]
     },
     "execution_count": 16,
     "metadata": {},
     "output_type": "execute_result"
    }
   ],
   "source": [
    "from typing import List \n",
    "\n",
    "def sample(x: List[int], c: int) -> List[int]:\n",
    "    assert len(x) > 0\n",
    "    \n",
    "    s = np.sum(x)\n",
    "    res = []\n",
    "    for _ in range(c):\n",
    "        val = s * np.random.random()\n",
    "        cur, idx = 0, 0        \n",
    "        while cur + x[idx] <= val:\n",
    "            cur += x[idx]\n",
    "            idx += 1\n",
    "            \n",
    "        res.append(idx)\n",
    "    return res\n",
    "\n",
    "            \n",
    "sample([50, 3, 1, 7, 20], 5)   "
   ]
  },
  {
   "cell_type": "markdown",
   "metadata": {},
   "source": [
    "Реализуйте данный алгоритм более оптимальным способом на массивах `numpy`, без использования циклов. Проверьте корректность и идентичность алгоритмов семплирования с помощью статистических тестов."
   ]
  },
  {
   "cell_type": "code",
   "execution_count": 17,
   "metadata": {},
   "outputs": [
    {
     "data": {
      "text/plain": [
       "array([4, 3, 4, 0, 4], dtype=int64)"
      ]
     },
     "execution_count": 17,
     "metadata": {},
     "output_type": "execute_result"
    }
   ],
   "source": [
    "import numpy.typing as npt\n",
    "\n",
    "def np_sample(x: npt.NDArray[np.int64], c: int) -> npt.NDArray[np.int64]:\n",
    "    assert x.size > 0\n",
    "\n",
    "    cumsum = np.cumsum(x)\n",
    "    val = np.random.rand(c) * np.sum(x)\n",
    "    res = np.argmax(cumsum > val.reshape(c, 1), axis=1)\n",
    "\n",
    "    return res\n",
    "\n",
    "np_sample(np.array([50, 3, 1, 7, 20]), 5)"
   ]
  },
  {
   "cell_type": "code",
   "execution_count": 24,
   "metadata": {},
   "outputs": [
    {
     "data": {
      "text/plain": [
       "Ttest_indResult(statistic=-0.16783627165933798, pvalue=0.8708773803679531)"
      ]
     },
     "execution_count": 24,
     "metadata": {},
     "output_type": "execute_result"
    }
   ],
   "source": [
    "from scipy.stats import ttest_ind\n",
    "\n",
    "a = sample([50, 3, 1, 7, 20], 5)\n",
    "b = np_sample(np.array([50, 3, 1, 7, 20]), 5)\n",
    "\n",
    "ttest_ind(a, b)"
   ]
  },
  {
   "cell_type": "markdown",
   "metadata": {},
   "source": [
    "# Задание 2.16 (5 баллов)\n",
    "\n",
    "Есть следующий алгоритм \"случайного блуждания\""
   ]
  },
  {
   "cell_type": "code",
   "execution_count": 19,
   "metadata": {},
   "outputs": [
    {
     "data": {
      "text/plain": [
       "1799"
      ]
     },
     "execution_count": 19,
     "metadata": {},
     "output_type": "execute_result"
    }
   ],
   "source": [
    "import random \n",
    "\n",
    "def walk(n: int):\n",
    "    cur_position = 0\n",
    "    for i in range(n):\n",
    "        cur_position += random.choice([-3, -1, 0, 2, 3])\n",
    "\n",
    "    return cur_position\n",
    "\n",
    "walk(10_000)"
   ]
  },
  {
   "cell_type": "markdown",
   "metadata": {},
   "source": [
    "Реализуйте более эффективную версию с помощью `numpy`, сравните производительность (используя, например, magic `timeit`). Воспользовавшись [kdeplot()](https://seaborn.pydata.org/generated/seaborn.kdeplot.html) или аналогами, постройте график распределения значений `walk(10_000)` на каком-то разумном запусков. "
   ]
  },
  {
   "cell_type": "code",
   "execution_count": 20,
   "metadata": {},
   "outputs": [
    {
     "data": {
      "text/plain": [
       "-92"
      ]
     },
     "execution_count": 20,
     "metadata": {},
     "output_type": "execute_result"
    }
   ],
   "source": [
    "def np_walk(n: int):\n",
    "    return np.random.randint(-3, 4, n).sum()\n",
    "\n",
    "np_walk(10_000)"
   ]
  },
  {
   "cell_type": "code",
   "execution_count": 21,
   "metadata": {},
   "outputs": [
    {
     "name": "stdout",
     "output_type": "stream",
     "text": [
      "2.55 ms ± 46.7 µs per loop (mean ± std. dev. of 7 runs, 100 loops each)\n",
      "41 µs ± 172 ns per loop (mean ± std. dev. of 7 runs, 10,000 loops each)\n"
     ]
    }
   ],
   "source": [
    "%timeit walk(10_000)\n",
    "%timeit np_walk(10_000)"
   ]
  },
  {
   "cell_type": "code",
   "execution_count": 22,
   "metadata": {},
   "outputs": [
    {
     "data": {
      "text/plain": [
       "<AxesSubplot: ylabel='Density'>"
      ]
     },
     "execution_count": 22,
     "metadata": {},
     "output_type": "execute_result"
    },
    {
     "data": {
      "image/png": "[encoded data removed]",
      "text/plain": [
       "<Figure size 640x480 with 1 Axes>"
      ]
     },
     "metadata": {},
     "output_type": "display_data"
    }
   ],
   "source": [
    "n = 300\n",
    "\n",
    "res_np_walk = np.zeros(n)\n",
    "\n",
    "for i in range(n):\n",
    "    res_np_walk[i] = np_walk(10_000)\n",
    "\n",
    "sns.kdeplot(data=res_np_walk)"
   ]
  },
  {
   "cell_type": "markdown",
   "metadata": {},
   "source": [
    "# Задание 2.17 (5 баллов)\n",
    "\n",
    "Имеется функция, которая проделывает достаточно странные манипуляции с массивом `numpy`"
   ]
  },
  {
   "cell_type": "code",
   "execution_count": 23,
   "metadata": {},
   "outputs": [
    {
     "data": {
      "text/plain": [
       "1.3711955999867673"
      ]
     },
     "execution_count": 23,
     "metadata": {},
     "output_type": "execute_result"
    }
   ],
   "source": [
    "import numpy.typing as npt\n",
    "\n",
    "def strange_conv(a: npt.NDArray[np.float64]) -> np.float64:\n",
    "    x = a.shape[0]\n",
    "    y = a.shape[1]\n",
    "\n",
    "    t = 1.\n",
    "    for y in range(y - 5):\n",
    "        for x in range(x - 3):\n",
    "            c = 1.5 * a[y+1, x+2] - a[y+5, x+3] * a[y, x] + 0.2 * a[y+4, x]\n",
    "            t = 0.2 * t + 0.8 * c\n",
    "\n",
    "    return t\n",
    "\n",
    "\n",
    "a = np.random.random((10000, 10000))\n",
    "strange_conv(a)\n"
   ]
  },
  {
   "cell_type": "markdown",
   "metadata": {},
   "source": [
    "Оптимизируйте данную функцию с помощью (2 на выбор):\n",
    "- [Numba](https://numba.pydata.org)\n",
    "- `Cython` (+5 баллов)\n",
    "- [Taichi](https://github.com/taichi-dev/taichi) (+5 баллов)\n",
    "- `Pythran `[[1]](https://pythran.readthedocs.io/en/latest/), [[2]](https://serge-sans-paille.github.io/pythran-stories/pythran-tutorial.html) (+2 балла)\n",
    "\n",
    "Сравните производительность."
   ]
  },
  {
   "cell_type": "code",
   "execution_count": null,
   "metadata": {},
   "outputs": [],
   "source": []
  }
 ],
 "metadata": {
  "kernelspec": {
   "display_name": "Python 3.10.8 ('venv': venv)",
   "language": "python",
   "name": "python3"
  },
  "language_info": {
   "codemirror_mode": {
    "name": "ipython",
    "version": 3
   },
   "file_extension": ".py",
   "mimetype": "text/x-python",
   "name": "python",
   "nbconvert_exporter": "python",
   "pygments_lexer": "ipython3",
   "version": "3.10.8"
  },
  "orig_nbformat": 4,
  "vscode": {
   "interpreter": {
    "hash": "1e0c6d25a5ac0828a9c582b756581770c1dd73089406764c05bae2368d1fc9b3"
   }
  }
 },
 "nbformat": 4,
 "nbformat_minor": 2
}
