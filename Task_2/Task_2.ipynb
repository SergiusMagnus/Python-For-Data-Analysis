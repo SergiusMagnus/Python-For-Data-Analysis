{
 "cells": [
  {
   "cell_type": "markdown",
   "metadata": {},
   "source": [
    "# Задание 2.\n",
    "\n",
    "**NB. Все упражнения ниже нужно делать без использования циклов Python в явном (`while`, `for`) и неявном виде (list comprehension, `map`, `reduce` и пр)**\n",
    "\n",
    "Задания по манипуляциям с массивами чаще всего решаются в одно/два выражения. "
   ]
  },
  {
   "cell_type": "code",
   "execution_count": 1,
   "metadata": {},
   "outputs": [
    {
     "data": {
      "text/plain": [
       "array([[71, 62, 64, ..., 93, 92, 69],\n",
       "       [ 7, 33, 61, ...,  1, 51, 89],\n",
       "       [81, 18, 25, ..., 58, 93, 84],\n",
       "       ...,\n",
       "       [ 6, 12, 43, ..., 75, 32, 13],\n",
       "       [ 0, 19, 93, ..., 22, 73, 55],\n",
       "       [74, 98, 66, ..., 90, 30, 19]])"
      ]
     },
     "execution_count": 1,
     "metadata": {},
     "output_type": "execute_result"
    }
   ],
   "source": [
    "%matplotlib inline\n",
    "\n",
    "import numpy as np\n",
    "import matplotlib.pyplot as plt\n",
    "import seaborn as sns\n",
    "sns.set_theme()\n",
    "\n",
    "A = np.random.randint(0, 100, size=(200, 50))\n",
    "A"
   ]
  },
  {
   "cell_type": "markdown",
   "metadata": {},
   "source": [
    "# Задание 2.1 (2 балла)\n",
    "\n",
    "Сгенерируйте новый массив, в котором столбцы массива `A` переставлены в случайном порядке"
   ]
  },
  {
   "cell_type": "code",
   "execution_count": 2,
   "metadata": {},
   "outputs": [
    {
     "data": {
      "text/plain": [
       "array([[38,  1, 50, ..., 93, 94, 20],\n",
       "       [42, 98, 11, ...,  1, 99, 41],\n",
       "       [79, 66, 56, ..., 58, 33, 69],\n",
       "       ...,\n",
       "       [91, 32,  8, ..., 75, 15, 33],\n",
       "       [58, 69, 34, ..., 22, 85, 51],\n",
       "       [38, 52, 24, ..., 90, 48, 45]])"
      ]
     },
     "execution_count": 2,
     "metadata": {},
     "output_type": "execute_result"
    }
   ],
   "source": [
    "rng = np.random.default_rng()\n",
    "\n",
    "rng.shuffle(A, axis=1)\n",
    "A"
   ]
  },
  {
   "cell_type": "markdown",
   "metadata": {},
   "source": [
    "# Задание 2.2 (5 баллов)\n",
    "\n",
    "Сгенерируйте новый массив, который содержит только те строки массива `A`, в которых: \n",
    "- сумма элементов по четным столбцам (индексы $0, 2, \\ldots$) больше среднего значения (по всему массиву) суммы элементов по нечетным столбцам (индексы $1, 3, \\ldots$) "
   ]
  },
  {
   "cell_type": "code",
   "execution_count": 3,
   "metadata": {},
   "outputs": [
    {
     "data": {
      "text/plain": [
       "array([[38,  1, 50, ..., 93, 94, 20],\n",
       "       [42, 98, 11, ...,  1, 99, 41],\n",
       "       [79, 66, 56, ..., 58, 33, 69],\n",
       "       ...,\n",
       "       [52, 74, 68, ..., 99, 36, 25],\n",
       "       [98,  5, 67, ..., 11, 75,  9],\n",
       "       [37, 70, 91, ..., 17, 68, 93]])"
      ]
     },
     "execution_count": 3,
     "metadata": {},
     "output_type": "execute_result"
    }
   ],
   "source": [
    "A[A[:, ::2].sum(axis=1) > A[:, 1::2].sum(axis=1).mean()]"
   ]
  },
  {
   "cell_type": "markdown",
   "metadata": {},
   "source": [
    "# Задача 2.3 (3 балла)\n",
    "\n",
    "Найдите индекс строки массива `A`, в которой разница между максимальным и минимальным элементом максимальна"
   ]
  },
  {
   "cell_type": "code",
   "execution_count": 4,
   "metadata": {},
   "outputs": [
    {
     "data": {
      "text/plain": [
       "4"
      ]
     },
     "execution_count": 4,
     "metadata": {},
     "output_type": "execute_result"
    }
   ],
   "source": [
    "np.argmax(A.max(axis=1) - A.min(axis=1))"
   ]
  },
  {
   "cell_type": "markdown",
   "metadata": {},
   "source": [
    "# Задание 2.4 (7 баллов)\n",
    "\n",
    "Сгенерируйте массив той же размерности, что и `A`, но в котором каждый элемент заменен на его порядковый номер (начиная с 1) в отсортированном по возрастанию массиве из элементов `A`\n",
    "\n",
    "Если `A` выглядит так:\n",
    "$$\n",
    "\\begin{pmatrix}\n",
    "12 & 14\\\\\n",
    "1 & 2\n",
    "\\end{pmatrix}\n",
    "$$\n",
    "то результат должен быть\n",
    "$$\n",
    "\\begin{pmatrix}\n",
    "3 & 4\\\\\n",
    "1 & 2\n",
    "\\end{pmatrix}\n",
    "$$\n",
    "\n",
    "*Tip: рассмотрите возможность неоднократного применения [argsort()](https://numpy.org/doc/stable/reference/generated/numpy.ndarray.argsort.html)*"
   ]
  },
  {
   "cell_type": "code",
   "execution_count": 5,
   "metadata": {},
   "outputs": [
    {
     "data": {
      "text/plain": [
       "array([[3822,  188, 4972, ..., 9326, 9430, 2106],\n",
       "       [4178, 9910, 1095, ...,  179, 9992, 4049],\n",
       "       [7887, 6639, 5539, ..., 5784, 3253, 6830],\n",
       "       ...,\n",
       "       [9156, 3165,  822, ..., 7448, 1593, 3243],\n",
       "       [5824, 6841, 3360, ..., 2269, 8498, 5117],\n",
       "       [3787, 5153, 2449, ..., 9084, 4718, 4487]], dtype=int64)"
      ]
     },
     "execution_count": 5,
     "metadata": {},
     "output_type": "execute_result"
    }
   ],
   "source": [
    "A.argsort(axis=None).argsort().reshape(A.shape) + 1"
   ]
  },
  {
   "cell_type": "markdown",
   "metadata": {},
   "source": [
    "# Задание 2.5 (2 балла)\n",
    "\n",
    "Примените $\\min-\\max$ - нормализацию к строкам массива `A`. То есть нужно получить новый массивы, в каждой строке которого максимальный элементы равен $1$, минимальный - $0$. "
   ]
  },
  {
   "cell_type": "code",
   "execution_count": 6,
   "metadata": {},
   "outputs": [
    {
     "data": {
      "text/plain": [
       "array([[0.37755102, 0.        , 0.5       , ..., 0.93877551, 0.94897959,\n",
       "        0.19387755],\n",
       "       [0.41836735, 0.98979592, 0.10204082, ..., 0.        , 1.        ,\n",
       "        0.40816327],\n",
       "       [0.78947368, 0.65263158, 0.54736842, ..., 0.56842105, 0.30526316,\n",
       "        0.68421053],\n",
       "       ...,\n",
       "       [0.92783505, 0.31958763, 0.07216495, ..., 0.7628866 , 0.1443299 ,\n",
       "        0.32989691],\n",
       "       [0.59183673, 0.70408163, 0.34693878, ..., 0.2244898 , 0.86734694,\n",
       "        0.52040816],\n",
       "       [0.3814433 , 0.5257732 , 0.2371134 , ..., 0.91752577, 0.48453608,\n",
       "        0.45360825]])"
      ]
     },
     "execution_count": 6,
     "metadata": {},
     "output_type": "execute_result"
    }
   ],
   "source": [
    "(A - np.vstack(A.min(axis=1))) / np.vstack(A.max(axis=1) - A.min(axis=1))"
   ]
  },
  {
   "cell_type": "markdown",
   "metadata": {},
   "source": [
    "# Задание 2.6 (2 балла)\n",
    "\n",
    "Сгенерируйте новый трехмерный массив, размерности $10 \\times 200 \\times 50$. Подмассивы по нулевой оси должны состоять из элементов `A`, умноженных на $1 - 10$ соответственно"
   ]
  },
  {
   "cell_type": "code",
   "execution_count": 7,
   "metadata": {},
   "outputs": [
    {
     "data": {
      "text/plain": [
       "array([[[ 38,   1,  50, ...,  93,  94,  20],\n",
       "        [ 42,  98,  11, ...,   1,  99,  41],\n",
       "        [ 79,  66,  56, ...,  58,  33,  69],\n",
       "        ...,\n",
       "        [ 91,  32,   8, ...,  75,  15,  33],\n",
       "        [ 58,  69,  34, ...,  22,  85,  51],\n",
       "        [ 38,  52,  24, ...,  90,  48,  45]],\n",
       "\n",
       "       [[ 76,   2, 100, ..., 186, 188,  40],\n",
       "        [ 84, 196,  22, ...,   2, 198,  82],\n",
       "        [158, 132, 112, ..., 116,  66, 138],\n",
       "        ...,\n",
       "        [182,  64,  16, ..., 150,  30,  66],\n",
       "        [116, 138,  68, ...,  44, 170, 102],\n",
       "        [ 76, 104,  48, ..., 180,  96,  90]],\n",
       "\n",
       "       [[114,   3, 150, ..., 279, 282,  60],\n",
       "        [126, 294,  33, ...,   3, 297, 123],\n",
       "        [237, 198, 168, ..., 174,  99, 207],\n",
       "        ...,\n",
       "        [273,  96,  24, ..., 225,  45,  99],\n",
       "        [174, 207, 102, ...,  66, 255, 153],\n",
       "        [114, 156,  72, ..., 270, 144, 135]],\n",
       "\n",
       "       ...,\n",
       "\n",
       "       [[304,   8, 400, ..., 744, 752, 160],\n",
       "        [336, 784,  88, ...,   8, 792, 328],\n",
       "        [632, 528, 448, ..., 464, 264, 552],\n",
       "        ...,\n",
       "        [728, 256,  64, ..., 600, 120, 264],\n",
       "        [464, 552, 272, ..., 176, 680, 408],\n",
       "        [304, 416, 192, ..., 720, 384, 360]],\n",
       "\n",
       "       [[342,   9, 450, ..., 837, 846, 180],\n",
       "        [378, 882,  99, ...,   9, 891, 369],\n",
       "        [711, 594, 504, ..., 522, 297, 621],\n",
       "        ...,\n",
       "        [819, 288,  72, ..., 675, 135, 297],\n",
       "        [522, 621, 306, ..., 198, 765, 459],\n",
       "        [342, 468, 216, ..., 810, 432, 405]],\n",
       "\n",
       "       [[380,  10, 500, ..., 930, 940, 200],\n",
       "        [420, 980, 110, ...,  10, 990, 410],\n",
       "        [790, 660, 560, ..., 580, 330, 690],\n",
       "        ...,\n",
       "        [910, 320,  80, ..., 750, 150, 330],\n",
       "        [580, 690, 340, ..., 220, 850, 510],\n",
       "        [380, 520, 240, ..., 900, 480, 450]]])"
      ]
     },
     "execution_count": 7,
     "metadata": {},
     "output_type": "execute_result"
    }
   ],
   "source": [
    "A * np.arange(1, 11).reshape(10, 1, 1)"
   ]
  },
  {
   "cell_type": "markdown",
   "metadata": {},
   "source": [
    "# Задание 2.7 (2 балла)\n",
    "\n",
    "Создайте новый массив, такой же размерности, как и `A`, в котором сначала сгруппированы четные столбцы `A`, потом  нечетные. Используйте [np.concat()](https://numpy.org/doc/stable/reference/generated/numpy.concatenate.html) "
   ]
  },
  {
   "cell_type": "code",
   "execution_count": 8,
   "metadata": {},
   "outputs": [
    {
     "data": {
      "text/plain": [
       "array([[38, 50, 65, ..., 62, 93, 20],\n",
       "       [42, 11, 60, ..., 33,  1, 41],\n",
       "       [79, 56, 91, ..., 18, 58, 69],\n",
       "       ...,\n",
       "       [91,  8, 84, ..., 12, 75, 33],\n",
       "       [58, 34, 69, ..., 19, 22, 51],\n",
       "       [38, 24,  5, ..., 98, 90, 45]])"
      ]
     },
     "execution_count": 8,
     "metadata": {},
     "output_type": "execute_result"
    }
   ],
   "source": [
    "np.concatenate((A[:, ::2], A[:, 1::2]), axis=1)"
   ]
  },
  {
   "cell_type": "markdown",
   "metadata": {},
   "source": [
    "# Задание 2.8 (2 балла)\n",
    "\n",
    "Посчитайте количество строк массива `A`, в который все элементы больше 5. Используйте [np.all()](https://numpy.org/doc/stable/reference/generated/numpy.all.html) "
   ]
  },
  {
   "cell_type": "code",
   "execution_count": 9,
   "metadata": {},
   "outputs": [
    {
     "data": {
      "text/plain": [
       "5"
      ]
     },
     "execution_count": 9,
     "metadata": {},
     "output_type": "execute_result"
    }
   ],
   "source": [
    "np.count_nonzero(np.all(A > 5, axis=1))"
   ]
  },
  {
   "cell_type": "markdown",
   "metadata": {},
   "source": [
    "# Задание 2.9 (2 балла)\n",
    "\n",
    "Поделите массив `A` горизонтально на 10 частей и создайте новый массив размерности $20 \\times 50$, который состоит из средних этих частей. Используйте [np.split()](https://numpy.org/doc/stable/reference/generated/numpy.split.html)"
   ]
  },
  {
   "cell_type": "code",
   "execution_count": 10,
   "metadata": {},
   "outputs": [
    {
     "data": {
      "text/plain": [
       "array([[34.9, 49.9, 47.5, 43.5, 43.5, 40.6, 66. , 53.4, 42.1, 60.7, 31.9,\n",
       "        46.1, 38.9, 51.9, 41.9, 58.8, 49.9, 55.9, 46.6, 42.6, 46.5, 47.4,\n",
       "        38.8, 42.7, 39.9, 45.1, 63.4, 48.6, 42.3, 52.6, 51.6, 48.3, 53.7,\n",
       "        44.5, 30.4, 48.6, 69.5, 59.7, 53.8, 48.1, 44.5, 50.6, 51.9, 54.2,\n",
       "        32.9, 51.5, 50.2, 62. , 80.8, 48.9],\n",
       "       [48.2, 64. , 43.3, 33.3, 51.4, 32.6, 61.5, 65.1, 46.1, 51.3, 44. ,\n",
       "        49. , 43.3, 49.9, 70.8, 47.8, 52.4, 38. , 66. , 57.3, 49. , 56.5,\n",
       "        50.7, 47.1, 50.6, 43.5, 43.7, 53.5, 54.8, 28.5, 39.8, 46.2, 49.9,\n",
       "        57.9, 43.3, 39.3, 52.1, 41.1, 53.7, 41.1, 46.3, 35.3, 70.7, 50.1,\n",
       "        50.5, 56.7, 48.6, 33.8, 64.7, 48.9],\n",
       "       [64.4, 56.1, 47. , 48.6, 61.7, 44.5, 47.2, 59.2, 46.9, 52.7, 49.1,\n",
       "        37.4, 52.9, 62.7, 56.7, 60.2, 35.9, 45. , 49.7, 55.7, 49.2, 45. ,\n",
       "        49. , 52. , 52.2, 61.8, 46.2, 31.4, 54.7, 65.1, 54.8, 61.9, 43.5,\n",
       "        57.2, 50.2, 47.6, 46.7, 53.8, 51.3, 58.6, 48. , 44.9, 46.4, 58.8,\n",
       "        53.3, 42.2, 62.5, 49.4, 27.4, 58.7],\n",
       "       [47.1, 56. , 59.7, 55.5, 63.2, 68.5, 44.9, 61.4, 52. , 39.1, 56. ,\n",
       "        55.8, 45.4, 53.6, 42.4, 53.3, 33. , 48. , 29.4, 35.4, 48.2, 42.3,\n",
       "        35.5, 46.3, 55. , 59. , 57.6, 55.4, 51.6, 52.3, 61.8, 39.3, 61.4,\n",
       "        50. , 45.4, 53.5, 49.6, 44.8, 45.6, 58.8, 65.8, 47.3, 44.8, 54.9,\n",
       "        53.8, 59. , 44.7, 54. , 63.8, 36.6],\n",
       "       [58.1, 65.6, 43.3, 45.6, 49.4, 51.3, 53.2, 42.9, 53.2, 32.4, 50.6,\n",
       "        58.2, 65.2, 59.4, 42.6, 41.5, 52.6, 47.9, 58.6, 39.4, 50.4, 35.5,\n",
       "        44.7, 61.1, 36. , 57.4, 45.6, 46.4, 46. , 48. , 36. , 39. , 64.6,\n",
       "        58.5, 48.4, 56.2, 41.5, 56.2, 35.7, 49.6, 57.6, 54.5, 60.6, 57.8,\n",
       "        53.2, 64.1, 37. , 50.1, 52.5, 62.3],\n",
       "       [38.3, 51.7, 53.9, 37.6, 37.4, 47.4, 40.7, 43. , 57. , 54. , 52.6,\n",
       "        44.2, 39.9, 43.3, 56.4, 53.5, 55.2, 56. , 38.3, 61.4, 61.6, 65.5,\n",
       "        35.7, 65.3, 61.4, 47.3, 46.2, 52.7, 49.8, 38.1, 41.2, 44.3, 41.9,\n",
       "        57.3, 52. , 35.3, 43.2, 48.7, 49.4, 45.5, 26. , 41.6, 41. , 44.6,\n",
       "        47.1, 46.9, 49.6, 49.2, 45.7, 70.7],\n",
       "       [51.4, 66.8, 37.9, 51.9, 51.1, 54.5, 54. , 43.8, 53.2, 52.1, 43.2,\n",
       "        47.4, 48.5, 56.7, 43.8, 45.5, 40. , 39.8, 36.2, 49.2, 51.2, 46.6,\n",
       "        48.6, 38.2, 50.2, 61.8, 59.6, 59. , 41.1, 52.3, 46.3, 49. , 43.6,\n",
       "        31.2, 59.5, 55.3, 62.8, 45.3, 39.2, 39.8, 60.9, 58.3, 63.5, 52.9,\n",
       "        67. , 37.6, 62. , 28.2, 49.8, 62.1],\n",
       "       [38.4, 40.3, 56.5, 55.8, 54.5, 42.5, 52.3, 62. , 43.4, 44.8, 32.6,\n",
       "        55. , 69.3, 55.3, 64.3, 62.7, 52. , 64.3, 53.3, 49.6, 54.3, 47.5,\n",
       "        39.3, 64.2, 50.7, 30.1, 43.1, 53.3, 40.9, 46.8, 60.3, 57.2, 50.1,\n",
       "        59.2, 57.7, 58.2, 48.1, 71.8, 53.9, 53.7, 45.4, 61.8, 54. , 57.2,\n",
       "        60.4, 44.9, 37.6, 47.8, 37.8, 65.1],\n",
       "       [34. , 37.3, 56.4, 58.2, 41. , 34.9, 63.3, 59.5, 50.9, 54.9, 45.2,\n",
       "        37.8, 65.9, 47.4, 71.7, 41.7, 49.9, 39.6, 41.2, 61.7, 57.2, 48. ,\n",
       "        55.4, 64.9, 36.6, 51.9, 53. , 32.9, 44.2, 41.2, 39.5, 33.9, 43. ,\n",
       "        60.9, 65.2, 50.3, 78.3, 51.2, 59.8, 45. , 36.3, 44.1, 64.4, 39.3,\n",
       "        41. , 65.5, 48.5, 66.5, 57.5, 44.6],\n",
       "       [43.1, 38.3, 59.3, 49.1, 41.7, 33. , 54. , 60.3, 52.7, 31.6, 57.4,\n",
       "        52.8, 49.3, 47.9, 38.8, 45.5, 27.3, 42. , 43.8, 51.3, 33.7, 45.6,\n",
       "        45.2, 30.4, 40.6, 59.9, 41.6, 49.1, 45.9, 33. , 43.5, 65.2, 50.8,\n",
       "        55.3, 60.7, 55.5, 48.2, 45.3, 39.1, 57.7, 50. , 46.4, 42.7, 52.3,\n",
       "        36.2, 39.6, 41.9, 61.9, 58.6, 52.1],\n",
       "       [58.9, 65.9, 43.1, 42.8, 68.2, 38.2, 53.4, 52.9, 53. , 29.5, 43.4,\n",
       "        47.4, 29.9, 47.8, 46.1, 51.2, 52.4, 39.1, 58.2, 53.8, 37.6, 45.9,\n",
       "        64.9, 54.5, 52.7, 27.3, 48.3, 47.2, 45.4, 36.2, 49.6, 50.5, 42.9,\n",
       "        55.1, 50.1, 42.4, 43.1, 63.2, 57.4, 73.6, 46.4, 56.6, 51.8, 56.7,\n",
       "        53.6, 53.7, 41.3, 45.2, 63.3, 54.7],\n",
       "       [43.1, 46.7, 35.7, 55.8, 60.4, 49. , 60.6, 53. , 68.9, 52.2, 47.9,\n",
       "        59.2, 39.9, 39.4, 41.2, 49.7, 43.7, 32.2, 61.3, 57.3, 46.7, 67.6,\n",
       "        47.8, 40.9, 56.7, 41.6, 53.8, 39.8, 52.3, 52.7, 37.2, 51. , 60.6,\n",
       "        53.8, 55.6, 53.3, 62.7, 53.9, 60. , 67.1, 39.4, 44.1, 53. , 60.1,\n",
       "        58.4, 52.5, 37. , 47.6, 42. , 41.7],\n",
       "       [51.6, 39.6, 52. , 53. , 29.7, 61.9, 50.2, 58.5, 59.8, 59.9, 58.2,\n",
       "        43.9, 47.6, 44.2, 48.6, 53.3, 48.7, 56.8, 68.8, 45. , 62.4, 43.9,\n",
       "        52.9, 28.1, 52.6, 38.8, 51.9, 47.7, 39.5, 48.3, 60.6, 48. , 47.1,\n",
       "        41.1, 50.2, 58.8, 49.6, 45.7, 42.2, 43.4, 50.5, 52.2, 51.6, 53.5,\n",
       "        55.8, 43.8, 69.7, 37.4, 44.5, 49.9],\n",
       "       [54.8, 42.8, 68.6, 39.5, 52.8, 49.8, 63.2, 51.4, 59.2, 49.7, 54.1,\n",
       "        61.9, 40.7, 43.9, 62.7, 44.7, 49.7, 40.5, 46.9, 46.7, 46.3, 54.5,\n",
       "        38.5, 56.7, 51.7, 41.3, 40. , 44.7, 49.7, 34.8, 52.7, 57.6, 53.2,\n",
       "        67.7, 53.3, 33.5, 50.5, 53.8, 73. , 30.9, 48.1, 56.7, 44.5, 41.4,\n",
       "        48.7, 52.1, 52.9, 56. , 43.8, 43.5],\n",
       "       [61.2, 50.5, 37.3, 42. , 48.4, 66.9, 60.9, 55.3, 59.6, 48.3, 61.1,\n",
       "        54.6, 38.3, 56.8, 42.1, 46.4, 38.1, 39.4, 53.6, 44.7, 70.9, 75. ,\n",
       "        54.5, 45.8, 64.9, 44.4, 44.1, 50.3, 36. , 73.8, 42.3, 60.4, 60.4,\n",
       "        37.3, 37.3, 50.6, 43. , 51.2, 63. , 63. , 48.3, 39.2, 63.1, 50. ,\n",
       "        46.8, 57.6, 47.2, 54.2, 51.7, 47.3],\n",
       "       [45.6, 64.4, 69.6, 37.3, 50. , 39.5, 67.1, 64.7, 37.2, 50.2, 53.2,\n",
       "        55.6, 47.6, 27.3, 55.5, 45.4, 52. , 48.2, 55.3, 63.3, 41.5, 32.3,\n",
       "        54.7, 56.4, 39.3, 55.7, 53.6, 46.9, 39.1, 49.1, 65.2, 56.6, 52.3,\n",
       "        35.8, 62.5, 41.7, 48.9, 69.9, 52.7, 67.7, 40.6, 63.5, 32.6, 69.7,\n",
       "        48. , 55.9, 59.2, 53.1, 50.1, 42.2],\n",
       "       [59. , 49.8, 27.2, 44.9, 50. , 41.3, 59.9, 48.7, 64.4, 52.1, 51.6,\n",
       "        57.3, 47.5, 45.2, 42.6, 23.5, 35.5, 66.1, 58. , 49.4, 47.9, 55.9,\n",
       "        56.7, 47.6, 45.5, 45.6, 46.1, 52. , 39.1, 64.1, 54.4, 42.1, 42.2,\n",
       "        51.9, 47.2, 45.4, 59.4, 68.2, 57. , 47.7, 31.6, 55.9, 58. , 49.8,\n",
       "        62.4, 58.4, 48.6, 42.9, 43.2, 50.6],\n",
       "       [58.7, 44.3, 31. , 54.9, 55.9, 51.2, 62.2, 55.7, 53. , 49.4, 41.1,\n",
       "        55. , 32.8, 47.3, 43.4, 49.1, 56.5, 61.8, 49.5, 34.9, 58.7, 52.9,\n",
       "        49. , 47.5, 52.5, 46.3, 40.8, 63.9, 47.2, 42.9, 53.8, 57.9, 42.5,\n",
       "        36.8, 40.4, 47.4, 58.3, 48.5, 47. , 49.2, 50.9, 51.6, 46.9, 47.5,\n",
       "        58.5, 41.3, 73.6, 60.3, 38.2, 48.4],\n",
       "       [43.2, 57.1, 50.2, 53.5, 39.1, 45.7, 44.5, 54.8, 50.5, 37. , 43.8,\n",
       "        74.8, 49.4, 32.7, 46. , 62.1, 38.3, 40.7, 46.2, 58.4, 53.7, 37.9,\n",
       "        38.2, 52.7, 25.5, 58.6, 46.5, 62.3, 42.4, 39.2, 55.7, 45.7, 40.7,\n",
       "        46.5, 50.6, 59.5, 42.3, 54.9, 60.2, 58. , 58.7, 42.6, 49. , 49.4,\n",
       "        61.9, 48.6, 29.9, 55.1, 46.7, 38.5],\n",
       "       [50.7, 48.3, 43.9, 46.8, 36. , 36.5, 51. , 54.9, 52.5, 49. , 58.1,\n",
       "        54.2, 54.5, 42.5, 44.8, 40.2, 63.6, 50.3, 41.5, 57.7, 35. , 41.4,\n",
       "        61.7, 33.9, 57.8, 44.3, 47.6, 41.2, 44.2, 71.9, 41.7, 57.6, 36.6,\n",
       "        36. , 47.8, 43.8, 32.7, 53.6, 45.9, 55.7, 51.6, 48.1, 53.2, 53.7,\n",
       "        50.3, 59.8, 53.7, 34.6, 46.2, 70.9]])"
      ]
     },
     "execution_count": 10,
     "metadata": {},
     "output_type": "execute_result"
    }
   ],
   "source": [
    "np.array(np.split(A, 10)).mean(axis=0)"
   ]
  },
  {
   "cell_type": "markdown",
   "metadata": {},
   "source": [
    "# Задание 2.10 (4 балла)\n",
    "\n",
    "\"Разверните\" массив `A` в одномерный массив. Оставьте в нём только уникальные элементы в том же порядке, в котором они встречаются в массиве. Используйте [np.unique()](https://numpy.org/doc/stable/reference/generated/numpy.unique.html)"
   ]
  },
  {
   "cell_type": "code",
   "execution_count": 11,
   "metadata": {},
   "outputs": [
    {
     "data": {
      "text/plain": [
       "array([38,  1, 50, 87, 65, 92, 51, 57, 71, 13, 19, 10, 70, 26, 47, 11, 32,\n",
       "       67, 69, 79, 56, 62, 31, 93, 48, 41, 88, 81, 82, 99, 46, 86, 73, 64,\n",
       "       34, 94, 20, 42, 98, 60,  3, 61, 80, 97, 68, 72, 21, 74,  8,  7, 63,\n",
       "       89,  4, 39, 22, 78, 35, 28, 75, 33, 84, 66, 53, 91, 59, 49, 30, 40,\n",
       "       95, 16, 27, 44,  6, 76, 25, 18, 77, 58, 52, 43, 12, 23, 14, 17,  5,\n",
       "       55, 96, 54, 36,  2, 45,  0, 83,  9, 90, 85, 24, 29, 37, 15])"
      ]
     },
     "execution_count": 11,
     "metadata": {},
     "output_type": "execute_result"
    }
   ],
   "source": [
    "u, ind = np.unique(A.flatten(), return_index=True)\n",
    "u[np.argsort(ind)]"
   ]
  },
  {
   "cell_type": "markdown",
   "metadata": {},
   "source": [
    "# Задание 2.11 (3 балла)\n",
    "\n",
    "Создайте одномерный массив размерности $200$, в котором каждый элемент - евклидово расстояние между соответствующей строкой `A` и \"средней\" строкой `A`"
   ]
  },
  {
   "cell_type": "code",
   "execution_count": 12,
   "metadata": {},
   "outputs": [
    {
     "data": {
      "text/plain": [
       "array([201.99310706, 222.60037129, 214.02550152, 193.29041699,\n",
       "       209.01135208, 215.76557951, 180.22992343, 183.44093136,\n",
       "       188.7453716 , 205.9073464 , 197.15566261, 207.79060446,\n",
       "       192.95438658, 189.63954044, 214.34459475, 209.34019036,\n",
       "       191.02980213, 203.71044475, 217.46699819, 197.10125646,\n",
       "       211.74530762, 192.95130292, 213.12828367, 219.94073133,\n",
       "       217.97411612, 194.21391634, 202.15403854, 219.03868448,\n",
       "       222.43941939, 210.00053643, 224.89300856, 194.5590535 ,\n",
       "       203.35519492, 224.21843211, 189.62150537, 203.96981468,\n",
       "       216.37565783, 202.36767355, 216.90229436, 210.38437513,\n",
       "       203.57285011, 196.07265312, 216.22639825, 222.62173142,\n",
       "       200.00651314, 223.39267065, 187.6948995 , 172.40648277,\n",
       "       161.374023  , 213.9190625 , 208.12495117, 198.99642032,\n",
       "       220.17171776, 185.94473722, 217.53545757, 211.44511179,\n",
       "       189.03598943, 218.16859375, 205.46745557, 206.92514419,\n",
       "       207.91191717, 208.26777307, 198.14528836, 196.89958177,\n",
       "       210.20505536, 209.2513448 , 211.56371452, 208.54593091,\n",
       "       217.47090679, 217.4874601 , 223.91370056, 210.03141503,\n",
       "       200.88744436, 219.24061052, 178.75244138, 192.29663362,\n",
       "       207.54051484, 195.01883319, 200.84087059, 200.22893223,\n",
       "       196.14768747, 214.87302134, 195.63914562, 208.6104391 ,\n",
       "       210.58422377, 208.46905118, 184.11932354, 213.30455996,\n",
       "       201.67527191, 196.37855102, 209.51750595, 210.82266316,\n",
       "       208.2448686 , 185.0504669 , 225.12810864, 205.58206464,\n",
       "       203.39684191, 187.28052568, 201.43094425, 214.24944644,\n",
       "       180.74242806, 198.13267096, 196.03949934, 220.10853073,\n",
       "       191.93794648, 220.71777296, 230.71518221, 181.58280563,\n",
       "       187.23409225, 204.01792887, 195.37030301, 195.36948406,\n",
       "       160.61801051, 219.76281601, 221.9838627 , 177.04554583,\n",
       "       202.4667264 , 198.32570509, 190.34480634, 223.6046406 ,\n",
       "       214.40749824, 174.29551142, 203.51254335, 167.55469346,\n",
       "       190.10432741, 200.68371957, 207.65186082, 202.83211112,\n",
       "       190.64368676, 212.55000659, 205.09116339, 216.71459411,\n",
       "       207.33838357, 220.27568023, 213.06810015, 197.73180144,\n",
       "       205.00118366, 180.20950391, 206.50952835, 207.92894291,\n",
       "       211.21975594, 203.35421141, 203.39263826, 212.44087483,\n",
       "       209.19277067, 207.69329623, 197.51575962, 201.53658551,\n",
       "       187.39817315, 227.06548681, 210.14838876, 213.66596664,\n",
       "       208.18562703, 186.74457234, 216.86580021, 192.68929732,\n",
       "       221.20066749, 188.23438926, 203.34784312, 217.09264221,\n",
       "       225.13663696, 230.76846687, 185.52472962, 200.20558259,\n",
       "       204.06561518, 210.37807704, 177.99855421, 220.85876777,\n",
       "       205.31832675, 217.60145978, 212.67081441, 212.21228829,\n",
       "       206.44036742, 201.33605067, 190.66272656, 210.15240969,\n",
       "       208.59263002, 186.53738312, 181.07861635, 205.5357762 ,\n",
       "       191.63090904, 218.34565556, 207.38099069, 202.74759012,\n",
       "       179.52697652, 228.51346853, 222.02516817, 201.80915564,\n",
       "       192.34322265, 205.95976622, 206.85443022, 203.73567508,\n",
       "       196.03750993, 221.35865761, 204.21201067, 197.10932322,\n",
       "       197.6090466 , 209.56675619, 202.7324969 , 189.40418501])"
      ]
     },
     "execution_count": 12,
     "metadata": {},
     "output_type": "execute_result"
    }
   ],
   "source": [
    "mean = A.mean(axis=0)\n",
    "np.sqrt(np.sum((A - mean) ** 2, axis=1))"
   ]
  },
  {
   "cell_type": "markdown",
   "metadata": {},
   "source": [
    "# Задание 2.12 (2 балла)\n",
    "\n",
    "Создайте новый массив, который состоит из элементов `A`, измененных по следующим правилам:\n",
    "- если элемент меньше $50$, то он умножается на $2$\n",
    "- в противном случае он умножается на $3$\n",
    "\n",
    "Используйте [np.where()](https://numpy.org/doc/stable/reference/generated/numpy.where.html)"
   ]
  },
  {
   "cell_type": "code",
   "execution_count": 13,
   "metadata": {},
   "outputs": [
    {
     "data": {
      "text/plain": [
       "array([[ 76,   2, 150, ..., 279, 282,  40],\n",
       "       [ 84, 294,  22, ...,   2, 297,  82],\n",
       "       [237, 198, 168, ..., 174,  66, 207],\n",
       "       ...,\n",
       "       [273,  64,  16, ..., 225,  30,  66],\n",
       "       [174, 207,  68, ...,  44, 255, 153],\n",
       "       [ 76, 156,  48, ..., 270,  96,  90]])"
      ]
     },
     "execution_count": 13,
     "metadata": {},
     "output_type": "execute_result"
    }
   ],
   "source": [
    "np.where(A < 50, A * 2, A * 3)"
   ]
  },
  {
   "cell_type": "markdown",
   "metadata": {},
   "source": [
    "# Задание 2.13 (7 баллов)\n",
    "\n",
    "Разверните массив `A` в одномерный массив. Создайте три новых массива, подсчитав скользящие средние по окнам $3$, $5$, $10$. Найдите сумму этих массивов, выровнив их размерности нулями справа.\n",
    "\n",
    "*Tip: реализуйте функцию, которая считает скользящее среднее. Используйте [np.cumsum()](https://numpy.org/doc/stable/reference/generated/numpy.cumsum.html) или [np.convolve()](https://numpy.org/doc/stable/reference/generated/numpy.convolve.html)*"
   ]
  },
  {
   "cell_type": "code",
   "execution_count": 14,
   "metadata": {},
   "outputs": [
    {
     "data": {
      "text/plain": [
       "array([125.86666667, 145.5       , 186.23333333, ..., 139.66666667,\n",
       "        59.        ,  61.        ])"
      ]
     },
     "execution_count": 14,
     "metadata": {},
     "output_type": "execute_result"
    }
   ],
   "source": [
    "def moving_average(arr, window):\n",
    "    return np.convolve(arr, np.ones(window), \"valid\") / window\n",
    "\n",
    "(moving_average(A.flatten(), 3) + \n",
    "np.concatenate((moving_average(A.flatten(), 5), np.zeros(2))) + \n",
    "np.concatenate((moving_average(A.flatten(), 10), np.zeros(7))))"
   ]
  },
  {
   "cell_type": "markdown",
   "metadata": {},
   "source": [
    "# Задание 2.14 (8 баллов)\n",
    "\n",
    "Постройте график функции $$f(x) = (5  \\sin(2x) - \\cos^2(x) - 1 + |x^3| - x^2) / (x^2 + 1)$$  \n",
    "\n",
    "и производной от этой функции.  Найдите минимум с помощью `scipy` и обозначьте его на графике. На этой же оси постройте графики скользящего среднего этой функции с окном $1$, $2$, $5$."
   ]
  },
  {
   "cell_type": "code",
   "execution_count": 15,
   "metadata": {},
   "outputs": [
    {
     "data": {
      "image/png": "[encoded data removed]",
      "text/plain": [
       "<Figure size 640x480 with 1 Axes>"
      ]
     },
     "metadata": {},
     "output_type": "display_data"
    }
   ],
   "source": [
    "from scipy.misc import derivative\n",
    "from scipy.optimize import fmin_bfgs\n",
    "\n",
    "f = lambda x: (5 * np.sin(2 * x) - np.cos(x) ** 2 - 1 + np.abs(x ** 3) - x ** 2) / (x ** 2 + 1)\n",
    "\n",
    "x = np.linspace(-7, 7, 400)\n",
    "y = f(x)\n",
    "\n",
    "plt.plot(x, y)\n",
    "plt.plot(x, derivative(f, x, dx=1e-6))\n",
    "\n",
    "min = fmin_bfgs(f, 0, disp=False)\n",
    "plt.scatter(min, f(min))\n",
    "\n",
    "plt.plot(x, moving_average(y, 1))\n",
    "plt.plot(x[1:], moving_average(y, 2))\n",
    "plt.plot(x[2:-2], moving_average(y, 5))\n",
    "\n",
    "plt.show()"
   ]
  },
  {
   "cell_type": "markdown",
   "metadata": {},
   "source": [
    "# Задание 2.15 (10 баллов)\n",
    "\n",
    "Есть следующий алгоритм семплинирования, на вход функции подается вектор из целых положительных чисел и число семплов."
   ]
  },
  {
   "cell_type": "code",
   "execution_count": 16,
   "metadata": {},
   "outputs": [
    {
     "data": {
      "text/plain": [
       "[4, 4, 3, 0, 0]"
      ]
     },
     "execution_count": 16,
     "metadata": {},
     "output_type": "execute_result"
    }
   ],
   "source": [
    "from typing import List \n",
    "\n",
    "def sample(x: List[int], c: int) -> List[int]:\n",
    "    assert len(x) > 0\n",
    "    \n",
    "    s = np.sum(x)\n",
    "    res = []\n",
    "    for _ in range(c):\n",
    "        val = s * np.random.random()\n",
    "        cur, idx = 0, 0        \n",
    "        while cur + x[idx] <= val:\n",
    "            cur += x[idx]\n",
    "            idx += 1\n",
    "            \n",
    "        res.append(idx)\n",
    "    return res\n",
    "\n",
    "            \n",
    "sample([50, 3, 1, 7, 20], 5)   "
   ]
  },
  {
   "cell_type": "markdown",
   "metadata": {},
   "source": [
    "Реализуйте данный алгоритм более оптимальным способом на массивах `numpy`, без использования циклов. Проверьте корректность и идентичность алгоритмов семплирования с помощью статистических тестов."
   ]
  },
  {
   "cell_type": "code",
   "execution_count": 17,
   "metadata": {},
   "outputs": [
    {
     "data": {
      "text/plain": [
       "array([4, 0, 0, 0, 0], dtype=int64)"
      ]
     },
     "execution_count": 17,
     "metadata": {},
     "output_type": "execute_result"
    }
   ],
   "source": [
    "import numpy.typing as npt\n",
    "\n",
    "def np_sample(x: npt.NDArray[np.int64], c: int) -> npt.NDArray[np.int64]:\n",
    "    assert x.size > 0\n",
    "\n",
    "    cumsum = np.cumsum(x)\n",
    "    val = np.random.rand(c) * np.sum(x)\n",
    "    res = np.argmax(cumsum > val.reshape(c, 1), axis=1)\n",
    "\n",
    "    return res\n",
    "\n",
    "np_sample(np.array([50, 3, 1, 7, 20]), 5)"
   ]
  },
  {
   "cell_type": "code",
   "execution_count": 18,
   "metadata": {},
   "outputs": [
    {
     "data": {
      "text/plain": [
       "Ttest_indResult(statistic=1.5666989036012802, pvalue=0.1558194785392556)"
      ]
     },
     "execution_count": 18,
     "metadata": {},
     "output_type": "execute_result"
    }
   ],
   "source": [
    "from scipy.stats import ttest_ind\n",
    "\n",
    "a = sample([50, 3, 1, 7, 20], 5)\n",
    "b = np_sample(np.array([50, 3, 1, 7, 20]), 5)\n",
    "\n",
    "ttest_ind(a, b)"
   ]
  },
  {
   "cell_type": "markdown",
   "metadata": {},
   "source": [
    "# Задание 2.16 (5 баллов)\n",
    "\n",
    "Есть следующий алгоритм \"случайного блуждания\""
   ]
  },
  {
   "cell_type": "code",
   "execution_count": 19,
   "metadata": {},
   "outputs": [
    {
     "data": {
      "text/plain": [
       "1600"
      ]
     },
     "execution_count": 19,
     "metadata": {},
     "output_type": "execute_result"
    }
   ],
   "source": [
    "import random \n",
    "\n",
    "def walk(n: int):\n",
    "    cur_position = 0\n",
    "    for i in range(n):\n",
    "        cur_position += random.choice([-3, -1, 0, 2, 3])\n",
    "\n",
    "    return cur_position\n",
    "\n",
    "walk(10_000)"
   ]
  },
  {
   "cell_type": "markdown",
   "metadata": {},
   "source": [
    "Реализуйте более эффективную версию с помощью `numpy`, сравните производительность (используя, например, magic `timeit`). Воспользовавшись [kdeplot()](https://seaborn.pydata.org/generated/seaborn.kdeplot.html) или аналогами, постройте график распределения значений `walk(10_000)` на каком-то разумном запусков. "
   ]
  },
  {
   "cell_type": "code",
   "execution_count": 20,
   "metadata": {},
   "outputs": [
    {
     "data": {
      "text/plain": [
       "195"
      ]
     },
     "execution_count": 20,
     "metadata": {},
     "output_type": "execute_result"
    }
   ],
   "source": [
    "def np_walk(n: int):\n",
    "    return np.random.randint(-3, 4, n).sum()\n",
    "\n",
    "np_walk(10_000)"
   ]
  },
  {
   "cell_type": "code",
   "execution_count": 21,
   "metadata": {},
   "outputs": [
    {
     "name": "stdout",
     "output_type": "stream",
     "text": [
      "2.4 ms ± 21.2 µs per loop (mean ± std. dev. of 7 runs, 100 loops each)\n",
      "40.6 µs ± 117 ns per loop (mean ± std. dev. of 7 runs, 10,000 loops each)\n"
     ]
    }
   ],
   "source": [
    "%timeit walk(10_000)\n",
    "%timeit np_walk(10_000)"
   ]
  },
  {
   "cell_type": "code",
   "execution_count": 22,
   "metadata": {},
   "outputs": [
    {
     "data": {
      "text/plain": [
       "<AxesSubplot: ylabel='Density'>"
      ]
     },
     "execution_count": 22,
     "metadata": {},
     "output_type": "execute_result"
    },
    {
     "data": {
      "image/png": "[encoded data removed]",
      "text/plain": [
       "<Figure size 640x480 with 1 Axes>"
      ]
     },
     "metadata": {},
     "output_type": "display_data"
    }
   ],
   "source": [
    "n = 300\n",
    "\n",
    "res_np_walk = np.zeros(n)\n",
    "\n",
    "for i in range(n):\n",
    "    res_np_walk[i] = np_walk(10_000)\n",
    "\n",
    "sns.kdeplot(data=res_np_walk)"
   ]
  },
  {
   "cell_type": "markdown",
   "metadata": {},
   "source": [
    "# Задание 2.17 (5 баллов)\n",
    "\n",
    "Имеется функция, которая проделывает достаточно странные манипуляции с массивом `numpy`"
   ]
  },
  {
   "cell_type": "code",
   "execution_count": 23,
   "metadata": {},
   "outputs": [
    {
     "data": {
      "text/plain": [
       "-0.29266451078689537"
      ]
     },
     "execution_count": 23,
     "metadata": {},
     "output_type": "execute_result"
    }
   ],
   "source": [
    "import numpy.typing as npt\n",
    "\n",
    "def strange_conv(a: npt.NDArray[np.float64]) -> np.float64:\n",
    "    x = a.shape[0]\n",
    "    y = a.shape[1]\n",
    "\n",
    "    t = 1.\n",
    "    for y in range(y - 5):\n",
    "        for x in range(x - 3):\n",
    "            c = 1.5 * a[y+1, x+2] - a[y+5, x+3] * a[y, x] + 0.2 * a[y+4, x]\n",
    "            t = 0.2 * t + 0.8 * c\n",
    "\n",
    "    return t\n",
    "\n",
    "\n",
    "a = np.random.random((10000, 10000))\n",
    "strange_conv(a)\n"
   ]
  },
  {
   "cell_type": "markdown",
   "metadata": {},
   "source": [
    "Оптимизируйте данную функцию с помощью (2 на выбор):\n",
    "- [Numba](https://numba.pydata.org)\n",
    "- `Cython` (+5 баллов)\n",
    "- [Taichi](https://github.com/taichi-dev/taichi) (+5 баллов)\n",
    "- `Pythran `[[1]](https://pythran.readthedocs.io/en/latest/), [[2]](https://serge-sans-paille.github.io/pythran-stories/pythran-tutorial.html) (+2 балла)\n",
    "\n",
    "Сравните производительность."
   ]
  },
  {
   "cell_type": "markdown",
   "metadata": {},
   "source": [
    "- Numba:"
   ]
  },
  {
   "cell_type": "code",
   "execution_count": 27,
   "metadata": {},
   "outputs": [
    {
     "data": {
      "text/plain": [
       "-0.29266451078689537"
      ]
     },
     "execution_count": 27,
     "metadata": {},
     "output_type": "execute_result"
    }
   ],
   "source": [
    "import numba\n",
    "\n",
    "strange_conv_numba = numba.jit(strange_conv)\n",
    "strange_conv_numba(a)"
   ]
  },
  {
   "cell_type": "markdown",
   "metadata": {},
   "source": [
    "- Cython"
   ]
  },
  {
   "cell_type": "code",
   "execution_count": 33,
   "metadata": {},
   "outputs": [],
   "source": [
    "import cython\n",
    "\n",
    "%load_ext cython"
   ]
  },
  {
   "cell_type": "code",
   "execution_count": 35,
   "metadata": {},
   "outputs": [],
   "source": [
    "%%cython\n",
    "\n",
    "cimport numpy\n",
    "\n",
    "def strange_conv_cython(numpy.ndarray[\"double\", ndim=2] a):\n",
    "    cdef int x = a.shape[0]\n",
    "    cdef int y = a.shape[1]\n",
    "\n",
    "    cdef double t = 1.\n",
    "    for y in range(y - 5):\n",
    "        for x in range(x - 3):\n",
    "            c = 1.5 * a[y + 1, x + 2] - a[y + 5, x + 3] * a[y, x] + 0.2 * a[y + 4, x]\n",
    "            t = 0.2 * t + 0.8 * c\n",
    "\n",
    "    return t"
   ]
  },
  {
   "cell_type": "code",
   "execution_count": 51,
   "metadata": {},
   "outputs": [
    {
     "data": {
      "text/plain": [
       "-0.29266451078689537"
      ]
     },
     "execution_count": 51,
     "metadata": {},
     "output_type": "execute_result"
    }
   ],
   "source": [
    "strange_conv_cython(a)"
   ]
  },
  {
   "cell_type": "markdown",
   "metadata": {},
   "source": [
    "- Taichi"
   ]
  },
  {
   "cell_type": "markdown",
   "metadata": {},
   "source": [
    "- Pythran"
   ]
  },
  {
   "cell_type": "markdown",
   "metadata": {},
   "source": [
    "- Сравнение производительности"
   ]
  },
  {
   "cell_type": "code",
   "execution_count": 38,
   "metadata": {},
   "outputs": [
    {
     "name": "stdout",
     "output_type": "stream",
     "text": [
      "9.68 s ± 1.48 s per loop (mean ± std. dev. of 7 runs, 1 loop each)\n"
     ]
    }
   ],
   "source": [
    "%timeit strange_conv(a)"
   ]
  },
  {
   "cell_type": "code",
   "execution_count": 63,
   "metadata": {},
   "outputs": [
    {
     "name": "stdout",
     "output_type": "stream",
     "text": [
      "25.3 ms ± 6.17 ms per loop (mean ± std. dev. of 7 runs, 10 loops each)\n"
     ]
    }
   ],
   "source": [
    "%timeit strange_conv_numba(a)"
   ]
  },
  {
   "cell_type": "code",
   "execution_count": 64,
   "metadata": {},
   "outputs": [
    {
     "name": "stdout",
     "output_type": "stream",
     "text": [
      "271 ms ± 4.81 ms per loop (mean ± std. dev. of 7 runs, 1 loop each)\n"
     ]
    }
   ],
   "source": [
    "%timeit strange_conv_cython(a)"
   ]
  }
 ],
 "metadata": {
  "kernelspec": {
   "display_name": "Python 3.10.8 ('venv': venv)",
   "language": "python",
   "name": "python3"
  },
  "language_info": {
   "codemirror_mode": {
    "name": "ipython",
    "version": 3
   },
   "file_extension": ".py",
   "mimetype": "text/x-python",
   "name": "python",
   "nbconvert_exporter": "python",
   "pygments_lexer": "ipython3",
   "version": "3.10.8"
  },
  "orig_nbformat": 4,
  "vscode": {
   "interpreter": {
    "hash": "1e0c6d25a5ac0828a9c582b756581770c1dd73089406764c05bae2368d1fc9b3"
   }
  }
 },
 "nbformat": 4,
 "nbformat_minor": 2
}
